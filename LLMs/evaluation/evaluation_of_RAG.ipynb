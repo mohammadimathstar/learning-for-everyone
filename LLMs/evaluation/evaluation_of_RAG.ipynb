{
 "cells": [
  {
   "cell_type": "markdown",
   "id": "d1591819-6641-4286-8716-35ecfa416f02",
   "metadata": {},
   "source": [
    "# How to evaluate a RAG application\n",
    "\n",
    "This example uses [Langchain](https://www.langchain.com) and [Giskard](https://github.com/Giskard-AI/giskard) to evaluate the quality of a RAG application."
   ]
  },
  {
   "cell_type": "code",
   "execution_count": 15,
   "id": "7472d4e7-84ae-4f59-82e2-8bdd355006c4",
   "metadata": {},
   "outputs": [
    {
     "data": {
      "text/plain": [
       "True"
      ]
     },
     "execution_count": 15,
     "metadata": {},
     "output_type": "execute_result"
    }
   ],
   "source": [
    "import os\n",
    "from dotenv import load_dotenv\n",
    "\n",
    "load_dotenv()"
   ]
  },
  {
   "cell_type": "markdown",
   "id": "a0a66fe5-5f07-4526-8339-2165e7429887",
   "metadata": {},
   "source": [
    "# 1) Load the Website and split it into smaller chunks\n",
    "\n",
    "Here, we would like to create a question-answer system related to a webpage. In the first step:\n",
    "* load the content of the webpage,\n",
    "* split the content into smaller chunks"
   ]
  },
  {
   "cell_type": "code",
   "execution_count": 4,
   "id": "6f181d8f-63ff-44aa-be33-0ce4f3b828ee",
   "metadata": {},
   "outputs": [
    {
     "name": "stderr",
     "output_type": "stream",
     "text": [
      "USER_AGENT environment variable not set, consider setting it to identify your requests.\n"
     ]
    }
   ],
   "source": [
    "from langchain_community.document_loaders import WebBaseLoader\n",
    "from langchain.text_splitter import RecursiveCharacterTextSplitter"
   ]
  },
  {
   "cell_type": "code",
   "execution_count": 14,
   "id": "327a7e77-3ef0-4136-8265-2dc24a27f974",
   "metadata": {},
   "outputs": [
    {
     "name": "stdout",
     "output_type": "stream",
     "text": [
      "There are 11 chunks.\n",
      "\n",
      "page_content='Building Machine Learning Systems That Don't Suck\"This is the best machine learning course I've done. Worth every cent.\"Jose Reyes, AI/ML at Cevo AustraliaBuilding Machine Learning Systems That Don't SuckA live, interactive program that'll help you build production-ready machine learning systems from the ground up.Next cohort: February 3 - 20, 2025Check the schedule for more details about upcoming cohorts.I want to join!Sign inLearn how to design, build, deploy, and scale machine learning systems to solve real-world problems.I'll lose my mind if I see another book or course teaching people the same basic ideas for the hundredth time. Most people are stuck in beginner mode, and finding help to solve real-world problems is hard.I want to change that.I started writing software 30 years ago. I've written pipelines and trained models for some of the largest companies in the world. I want to show you how to do the same.This is the class I wish I had taken when I started.This program will' metadata={'source': 'https://www.ml.school/', 'title': \"Building Machine Learning Systems That Don't Suck\", 'description': \"A live, interactive program that'll help you build production-ready machine learning systems from the ground up.\", 'language': 'en'}\n"
     ]
    }
   ],
   "source": [
    "text_splitter = RecursiveCharacterTextSplitter(\n",
    "    chunk_size=1000, # number of characters per chunk\n",
    "    chunk_overlap=40\n",
    ")\n",
    "\n",
    "loader = WebBaseLoader(\"https://www.ml.school/\")\n",
    "\n",
    "documents = loader.load_and_split(text_splitter)\n",
    "print(\"There are {} chunks.\\n\".format(len(documents)))\n",
    "print(documents[0])"
   ]
  },
  {
   "cell_type": "markdown",
   "id": "9244c06e-7799-4a79-9186-9ab0d9b408f9",
   "metadata": {},
   "source": [
    "# 2) Load the content into a vector stores\n",
    "\n",
    "We create a vector stores which contains:\n",
    "* the vector embedding for each chunk"
   ]
  },
  {
   "cell_type": "code",
   "execution_count": 3,
   "id": "3d3cd6a7-b92e-4920-b66b-41a79d06d8ad",
   "metadata": {},
   "outputs": [],
   "source": [
    "from langchain_openai.embeddings import OpenAIEmbeddings\n",
    "from langchain_community.vectorstores import DocArrayInMemorySearch"
   ]
  },
  {
   "cell_type": "raw",
   "id": "c1177d95-2154-428a-bc28-7dabec38cd81",
   "metadata": {},
   "source": []
  },
  {
   "cell_type": "code",
   "execution_count": 23,
   "id": "f70f5a93-d0a6-4f0d-96bf-799773850310",
   "metadata": {},
   "outputs": [
    {
     "name": "stderr",
     "output_type": "stream",
     "text": [
      "/home/mohammad/miniconda3/lib/python3.12/site-packages/pydantic/_migration.py:283: UserWarning: `pydantic.error_wrappers:ValidationError` has been moved to `pydantic:ValidationError`.\n",
      "  warnings.warn(f'`{import_path}` has been moved to `{new_location}`.')\n"
     ]
    },
    {
     "data": {
      "text/plain": [
       "<langchain_community.vectorstores.docarray.in_memory.DocArrayInMemorySearch at 0x7a95c1e41400>"
      ]
     },
     "execution_count": 23,
     "metadata": {},
     "output_type": "execute_result"
    }
   ],
   "source": [
    "vectorstore = DocArrayInMemorySearch.from_documents(\n",
    "    documents,\n",
    "    embedding=OpenAIEmbeddings()\n",
    ")\n",
    "vectorstore"
   ]
  },
  {
   "cell_type": "code",
   "execution_count": 25,
   "id": "7191a84d-5796-4fe4-9c02-2e6d6b46cedd",
   "metadata": {},
   "outputs": [
    {
     "data": {
      "text/plain": [
       "Document(metadata={'source': 'https://www.ml.school/', 'title': \"Building Machine Learning Systems That Don't Suck\", 'description': \"A live, interactive program that'll help you build production-ready machine learning systems from the ground up.\", 'language': 'en'}, page_content=\"taken when I started.This program will help you unlearn what you think machine learning is. It's a practical, hands-on class where you'll learn from years of experience and real-world examples.When you join, you get lifetime access to the following:18 hours of live, interactive sessions. We'll use this time to discuss the first principles behind building machine learning systems.10 hours of step-by-step coding instructions. These practical sessions will show you how to build an end-to-end system from scratch.A final project where you'll build a complete solution and receive direct feedback on your work.100 coding assignments and practice questions.The entire source code of a working production system. It's yours. You can change and use it as you see fit.A private community where you'll collaborate with thousands of people from different backgrounds.Direct access to your instructor.Lifetime access to every past and future cohort.Program certificate upon completion.And the best part is\")"
      ]
     },
     "execution_count": 25,
     "metadata": {},
     "output_type": "execute_result"
    }
   ],
   "source": [
    "search_res = vectorstore.similarity_search(\"What is this course for?\")\n",
    "search_res[0]"
   ]
  },
  {
   "cell_type": "markdown",
   "id": "1c5bc8a7-738c-4dd0-a1c8-26101bbc6299",
   "metadata": {},
   "source": [
    "# 3) Generate the test set\n",
    "\n",
    "We use another LLM to generate a list of `question`s and the desired `answer`s:\n",
    "* First, we create knowledge base,\n",
    "* Then, we use LLM to generate a test set.\n",
    "\n",
    "**Note.** By default, RAGET automatically generates 6 different [question types](https://docs.giskard.ai/en/latest/open_source/testset_generation/testset_generation/index.html#q-types) (these can be selected if needed, see [advanced question generation](https://docs.giskard.ai/en/latest/open_source/testset_generation/testset_generation/index.html#advanced-config)). The total number of questions is divided equally between each question type."
   ]
  },
  {
   "cell_type": "code",
   "execution_count": 40,
   "id": "1471b93a-7a53-45dc-b2d4-e41b716900fd",
   "metadata": {},
   "outputs": [],
   "source": [
    "import pandas as pd\n",
    "import giskard\n",
    "from giskard.rag import KnowledgeBase, generate_testset"
   ]
  },
  {
   "cell_type": "code",
   "execution_count": 33,
   "id": "9e54920e-2802-48b4-8026-728e3ca3983b",
   "metadata": {},
   "outputs": [
    {
     "data": {
      "text/html": [
       "<div>\n",
       "<style scoped>\n",
       "    .dataframe tbody tr th:only-of-type {\n",
       "        vertical-align: middle;\n",
       "    }\n",
       "\n",
       "    .dataframe tbody tr th {\n",
       "        vertical-align: top;\n",
       "    }\n",
       "\n",
       "    .dataframe thead th {\n",
       "        text-align: right;\n",
       "    }\n",
       "</style>\n",
       "<table border=\"1\" class=\"dataframe\">\n",
       "  <thead>\n",
       "    <tr style=\"text-align: right;\">\n",
       "      <th></th>\n",
       "      <th>text</th>\n",
       "    </tr>\n",
       "  </thead>\n",
       "  <tbody>\n",
       "    <tr>\n",
       "      <th>0</th>\n",
       "      <td>Building Machine Learning Systems That Don't S...</td>\n",
       "    </tr>\n",
       "    <tr>\n",
       "      <th>1</th>\n",
       "      <td>taken when I started.This program will help yo...</td>\n",
       "    </tr>\n",
       "    <tr>\n",
       "      <th>2</th>\n",
       "      <td>upon completion.And the best part is that you ...</td>\n",
       "    </tr>\n",
       "    <tr>\n",
       "      <th>3</th>\n",
       "      <td>We'll move quickly over the basics to focus on...</td>\n",
       "    </tr>\n",
       "    <tr>\n",
       "      <th>4</th>\n",
       "      <td>training, adversarial validation, human-in-the...</td>\n",
       "    </tr>\n",
       "  </tbody>\n",
       "</table>\n",
       "</div>"
      ],
      "text/plain": [
       "                                                text\n",
       "0  Building Machine Learning Systems That Don't S...\n",
       "1  taken when I started.This program will help yo...\n",
       "2  upon completion.And the best part is that you ...\n",
       "3  We'll move quickly over the basics to focus on...\n",
       "4  training, adversarial validation, human-in-the..."
      ]
     },
     "execution_count": 33,
     "metadata": {},
     "output_type": "execute_result"
    }
   ],
   "source": [
    "df = pd.DataFrame([d.page_content for d in documents], columns=['text'])\n",
    "df.head()"
   ]
  },
  {
   "cell_type": "code",
   "execution_count": 34,
   "id": "ba02a841-822d-42c0-8075-c63609d9e51d",
   "metadata": {},
   "outputs": [
    {
     "name": "stdout",
     "output_type": "stream",
     "text": [
      "2024-11-24 23:31:43,958 pid:13932 MainThread giskard.llm.embeddings INFO     No embedding model set though giskard.llm.set_embedding_model. Defaulting to openai/text-embedding-3-small since OPENAI_API_KEY is set.\n"
     ]
    }
   ],
   "source": [
    "knowledge_base = KnowledgeBase(df)"
   ]
  },
  {
   "cell_type": "code",
   "execution_count": 41,
   "id": "a8615d03-6baf-4a40-83be-7b05b7a27ab7",
   "metadata": {},
   "outputs": [
    {
     "name": "stderr",
     "output_type": "stream",
     "text": [
      "Generating questions: 100%|█████████████████████| 50/50 [03:03<00:00,  3.67s/it]\n"
     ]
    }
   ],
   "source": [
    "giskard.llm.set_llm_model(\"gpt-4o\")\n",
    "\n",
    "test_set = generate_testset(\n",
    "    knowledge_base,\n",
    "    num_questions=50, # number of samples to generate\n",
    "    agent_description=\"A chatbot answering questions about the Machine Learning School Website\", # helps generating better questions\n",
    ")"
   ]
  },
  {
   "cell_type": "code",
   "execution_count": 42,
   "id": "ce10020f-fbec-4a93-9e3d-ce096419afb4",
   "metadata": {},
   "outputs": [
    {
     "name": "stdout",
     "output_type": "stream",
     "text": [
      "Question 1: What resources are included in the machine learning program?\n",
      "Reference answer: The program includes 18 hours of live, interactive sessions, 10 hours of step-by-step coding instructions, a final project with feedback, 100 coding assignments and practice questions, the entire source code of a working production system, access to a private community, direct access to the instructor, lifetime access to every past and future cohort, and a program certificate upon completion.\n",
      "Reference context:\n",
      "Document 1: taken when I started.This program will help you unlearn what you think machine learning is. It's a practical, hands-on class where you'll learn from years of experience and real-world examples.When you join, you get lifetime access to the following:18 hours of live, interactive sessions. We'll use this time to discuss the first principles behind building machine learning systems.10 hours of step-by-step coding instructions. These practical sessions will show you how to build an end-to-end system from scratch.A final project where you'll build a complete solution and receive direct feedback on your work.100 coding assignments and practice questions.The entire source code of a working production system. It's yours. You can change and use it as you see fit.A private community where you'll collaborate with thousands of people from different backgrounds.Direct access to your instructor.Lifetime access to every past and future cohort.Program certificate upon completion.And the best part is\n",
      "******************\n",
      "\n",
      "Question 2: What is the duration and schedule for each iteration of the program?\n",
      "Reference answer: Every iteration of the program gives you 18 hours of hands-on, live training spread over 3 weeks. The upcoming cohort is Cohort 17: February 3 - February 20, 2025.\n",
      "Reference context:\n",
      "Document 4: training, adversarial validation, human-in-the-loop deployments, model compression, test-time augmentation, testing in production, among many others.You'll learn how to create training, deploying, monitoring, and inference pipelines using Amazon SageMaker and open-source tools.Forget about theoretical concepts. This program will show you some of the things I've learned from real-life examples I've built during more than 30 years in the industry.Check the program syllabus →Real-life examples and case studiesLearn from practical experience building machine learning systems that work in the real world.Live, interactive sessionsAsk questions and interact with the instructor and other students in real time.Code walkthroughsStep by step coding instructions to help you build a production system from scratch.Upcoming ScheduleEvery iteration of the program gives you 18 hours of hands-on, live training spread over 3 weeks.Here are the upcoming cohorts:Cohort 17: February 3 - February 20, 2025.\n",
      "******************\n",
      "\n",
      "Question 3: What is the cost and access policy for the program?\n",
      "Reference answer: The program costs $500, which is a one-time payment for lifetime access. Participants can join as many iterations as they'd like with no restrictions.\n",
      "Reference context:\n",
      "Document 6: costs.$500Pay once. Access forever.Pay once to join the program and get lifetime access. You can participate in as many iterations as you'd like. No restrictions.Enjoy 18 hours of live, interactive sessionsWatch 10 hours of step-by-step coding instructionsPractice with 100 coding assignmentsAccess the complete source code of a production systemLearn how to start freelancing on UpworkGet feedback and support from the communityGet direct feedback from your instructorJoin nowProgram SyllabusThis program will teach you the practical skills and insights that will help you build machine learning systems.Here are the contents of the six live sessions of the program:Session 1 - How To Start (Almost) Any ProjectWhat makes production machine learning different from what you've learned.The strategy to solve the right problem using the right solution.Critical questions to ask before starting any project.Problem framing, inversion, and the haystack principle for building successful\n",
      "******************\n",
      "\n"
     ]
    }
   ],
   "source": [
    "test_set_df = test_set.to_pandas()\n",
    "\n",
    "for index, row in enumerate(test_set_df.head(3).iterrows()):\n",
    "    print(f\"Question {index + 1}: {row[1]['question']}\")\n",
    "    print(f\"Reference answer: {row[1]['reference_answer']}\")\n",
    "    print(\"Reference context:\")\n",
    "    print(row[1]['reference_context'])\n",
    "    print(\"******************\", end=\"\\n\\n\")"
   ]
  },
  {
   "cell_type": "code",
   "execution_count": 43,
   "id": "1f891088-1cc4-4b45-a027-4c86b9b93350",
   "metadata": {},
   "outputs": [],
   "source": [
    "test_set.save(\"./test-set.jsonl\")"
   ]
  },
  {
   "cell_type": "markdown",
   "id": "d382474f-2566-44af-9a35-9231a7cc6e82",
   "metadata": {},
   "source": [
    "# 4) Evaluation\n",
    "\n",
    "Now, we evaluate our question-answer system:\n",
    "* use our model to generate answers to the questions (from our generated test set),\n",
    "* evaluate the model by comparing pairs of answers (our model's answers vs. the answers generated by the other LLM)"
   ]
  },
  {
   "cell_type": "code",
   "execution_count": 46,
   "id": "d8d64576-c1f8-4f02-8767-b7ea4a84412f",
   "metadata": {},
   "outputs": [],
   "source": [
    "from langchain_openai.chat_models import ChatOpenAI\n",
    "from langchain_core.output_parsers import StrOutputParser\n",
    "from langchain.prompts import PromptTemplate\n",
    "from operator import itemgetter"
   ]
  },
  {
   "cell_type": "code",
   "execution_count": 45,
   "id": "3223afe7-ae01-41b1-b024-666c4e5a949c",
   "metadata": {},
   "outputs": [],
   "source": [
    "# determining our model\n",
    "MODEL = 'gpt-3.5-turbo-0125'\n",
    "llm = ChatOpenAI(model=MODEL)"
   ]
  },
  {
   "cell_type": "code",
   "execution_count": 47,
   "id": "be4a4823-dfba-4c2d-9d70-d43052d6ab76",
   "metadata": {},
   "outputs": [
    {
     "name": "stdout",
     "output_type": "stream",
     "text": [
      "\n",
      "Answer the question based on the context below. If you can't \n",
      "answer the question, reply \"I don't know\".\n",
      "\n",
      "Context: Some context\n",
      "\n",
      "Question: here is the question\n",
      "\n"
     ]
    }
   ],
   "source": [
    "# defining the prompt template\n",
    "prompt_template = \"\"\"\n",
    "Answer the question based on the context below. If you can't \n",
    "answer the question, reply \"I don't know\".\n",
    "\n",
    "Context: {context}\n",
    "\n",
    "Question: {question}\n",
    "\"\"\"\n",
    "\n",
    "prompt = PromptTemplate.from_template(prompt_template)\n",
    "print(prompt.format(context='Some context', question='here is the question'))"
   ]
  },
  {
   "cell_type": "markdown",
   "id": "ba9d1789-b3f3-4f46-9afb-c3399a893e7b",
   "metadata": {},
   "source": [
    "### Create the RAG Chain\n",
    "\n",
    "We create a `retriever` from the `Vector Store`. Given a question, it provides us the most relevant part of the text (with the highest similarity to the question) based on the similarity of the embedding vectors."
   ]
  },
  {
   "cell_type": "code",
   "execution_count": 51,
   "id": "ce70fbad-af7b-4477-861f-d9fba4827208",
   "metadata": {},
   "outputs": [
    {
     "name": "stdout",
     "output_type": "stream",
     "text": [
      "We extracted 4 chunks (as the most relevant\n"
     ]
    },
    {
     "data": {
      "text/plain": [
       "Document(metadata={'source': 'https://www.ml.school/', 'title': \"Building Machine Learning Systems That Don't Suck\", 'description': \"A live, interactive program that'll help you build production-ready machine learning systems from the ground up.\", 'language': 'en'}, page_content=\"taken when I started.This program will help you unlearn what you think machine learning is. It's a practical, hands-on class where you'll learn from years of experience and real-world examples.When you join, you get lifetime access to the following:18 hours of live, interactive sessions. We'll use this time to discuss the first principles behind building machine learning systems.10 hours of step-by-step coding instructions. These practical sessions will show you how to build an end-to-end system from scratch.A final project where you'll build a complete solution and receive direct feedback on your work.100 coding assignments and practice questions.The entire source code of a working production system. It's yours. You can change and use it as you see fit.A private community where you'll collaborate with thousands of people from different backgrounds.Direct access to your instructor.Lifetime access to every past and future cohort.Program certificate upon completion.And the best part is\")"
      ]
     },
     "execution_count": 51,
     "metadata": {},
     "output_type": "execute_result"
    }
   ],
   "source": [
    "retriever = vectorstore.as_retriever()\n",
    "\n",
    "retriever_res = retriever.get_relevant_documents(\"What is the Machine Learning School?\")\n",
    "print(\"We extracted {} chunks (as the most relevant\".format(len(retriever_res)))\n",
    "retriever_res[0]"
   ]
  },
  {
   "cell_type": "code",
   "execution_count": 52,
   "id": "b4d681d9-424e-47c5-8409-03849388b675",
   "metadata": {},
   "outputs": [
    {
     "data": {
      "text/plain": [
       "'The Machine Learning School is a live, interactive program that helps individuals build production-ready machine learning systems from the ground up. It offers practical, hands-on classes, coding instructions, a final project, coding assignments, access to source code, a private community, direct access to the instructor, and a program certificate upon completion.'"
      ]
     },
     "execution_count": 52,
     "metadata": {},
     "output_type": "execute_result"
    }
   ],
   "source": [
    "chain = (\n",
    "    {\n",
    "        'context': itemgetter('question') | retriever,\n",
    "        'question': itemgetter('question'),\n",
    "    }\n",
    "    | prompt\n",
    "    | llm\n",
    "    | StrOutputParser()\n",
    ")\n",
    "chain.invoke({\"question\": \"What is the Machine Learning School?\"})"
   ]
  },
  {
   "cell_type": "markdown",
   "id": "75251a5e-51cf-4ae9-bad1-40320045c8df",
   "metadata": {},
   "source": [
    "### Evaluation\n",
    "\n",
    "We evaluate the performance of the RAG system using the test set."
   ]
  },
  {
   "cell_type": "code",
   "execution_count": null,
   "id": "d521d60d-125e-4190-aea3-7c6e11143054",
   "metadata": {},
   "outputs": [],
   "source": [
    "def answer(question, history=None):\n",
    "    return chain.invoke({'question': question})"
   ]
  },
  {
   "cell_type": "code",
   "execution_count": null,
   "id": "eaeb6c49-4bee-4d93-82a7-27f5abb76924",
   "metadata": {},
   "outputs": [],
   "source": []
  },
  {
   "cell_type": "markdown",
   "id": "d1dab3cd-2c1c-4af6-ad20-253e2f01ed31",
   "metadata": {},
   "source": []
  }
 ],
 "metadata": {
  "kernelspec": {
   "display_name": "llm-langchain",
   "language": "python",
   "name": "llm-langchain"
  },
  "language_info": {
   "codemirror_mode": {
    "name": "ipython",
    "version": 3
   },
   "file_extension": ".py",
   "mimetype": "text/x-python",
   "name": "python",
   "nbconvert_exporter": "python",
   "pygments_lexer": "ipython3",
   "version": "3.12.7"
  }
 },
 "nbformat": 4,
 "nbformat_minor": 5
}
