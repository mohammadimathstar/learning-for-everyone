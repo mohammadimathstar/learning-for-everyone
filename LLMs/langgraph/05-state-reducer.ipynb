{
 "cells": [
  {
   "cell_type": "markdown",
   "id": "da7b44b8",
   "metadata": {},
   "source": [
    "# State Reducers \n",
    "\n",
    "\n",
    "## Goals\n",
    "\n",
    "Now, we're going to dive into reducers, which specify how state updates are performed on specific keys / channels in the state schema.\n",
    "\n",
    "\n",
    "### Default: overwriting state\n",
    "\n",
    "By default, to update values when we pass through a node, the LangGraph overwrite the values. "
   ]
  },
  {
   "cell_type": "code",
   "execution_count": 2,
   "id": "2c060f9a",
   "metadata": {},
   "outputs": [],
   "source": [
    "from typing_extensions import TypedDict\n",
    "from IPython.display import Image, display\n",
    "from langgraph.graph import StateGraph, START, END"
   ]
  },
  {
   "cell_type": "code",
   "execution_count": 4,
   "id": "f50ccd7a",
   "metadata": {},
   "outputs": [
    {
     "data": {
      "image/png": "[encoded data removed]",
      "text/plain": [
       "<IPython.core.display.Image object>"
      ]
     },
     "metadata": {},
     "output_type": "display_data"
    }
   ],
   "source": [
    "class State(TypedDict):\n",
    "    x: int\n",
    "        \n",
    "def node1(state: State):\n",
    "    print(\"---node 1---\")\n",
    "    return {'x': state['x'] * 2}\n",
    "\n",
    "# Build graph\n",
    "builder = StateGraph(State)\n",
    "builder.add_node(\"node1\", node1)\n",
    "\n",
    "# Logic\n",
    "builder.add_edge(START, \"node1\")\n",
    "builder.add_edge(\"node1\", END)\n",
    "\n",
    "# Add\n",
    "graph = builder.compile()\n",
    "\n",
    "# View\n",
    "display(Image(graph.get_graph().draw_mermaid_png()))"
   ]
  },
  {
   "cell_type": "code",
   "execution_count": 5,
   "id": "726ba5ed",
   "metadata": {},
   "outputs": [
    {
     "name": "stdout",
     "output_type": "stream",
     "text": [
      "---node 1---\n"
     ]
    },
    {
     "data": {
      "text/plain": [
       "{'x': 4}"
      ]
     },
     "execution_count": 5,
     "metadata": {},
     "output_type": "execute_result"
    }
   ],
   "source": [
    "graph.invoke({\"x\":2})"
   ]
  },
  {
   "cell_type": "markdown",
   "id": "baf42bee",
   "metadata": {},
   "source": [
    "As it can be seen, the value of 'x' is overwritten when we pass through node 1.\n",
    "* This may cause error. For instance, if several nodes tries to overwrite a value at the same time.\n",
    "\n",
    "### Reducer\n",
    "\n",
    "To overcome the above problem, we can use `[Reducers](https://langchain-ai.github.io/langgraph/concepts/low_level/#reducers).\n",
    "\n",
    "* They specify how to perform updates.\n",
    "\n",
    "We can use the `Annotated` type to specify a reducer function. \n",
    "\n",
    "For instance, one may append the value returned from each node (rather than overwriting them). For this, we can use `operator.add`."
   ]
  },
  {
   "cell_type": "code",
   "execution_count": 6,
   "id": "43b998d7",
   "metadata": {},
   "outputs": [],
   "source": [
    "from operator import add\n",
    "from typing import Annotated"
   ]
  },
  {
   "cell_type": "code",
   "execution_count": 10,
   "id": "42a07bf1",
   "metadata": {},
   "outputs": [
    {
     "data": {
      "image/png": "[encoded data removed]",
      "text/plain": [
       "<IPython.core.display.Image object>"
      ]
     },
     "metadata": {},
     "output_type": "display_data"
    }
   ],
   "source": [
    "class State(TypedDict):\n",
    "    x: Annotated[list[int], add]\n",
    "        \n",
    "def node1(state: State):\n",
    "    print(\"---node 1---\")\n",
    "    return {'x': [state['x'][0] * 2]}\n",
    "\n",
    "# Build graph\n",
    "builder = StateGraph(State)\n",
    "builder.add_node(\"node1\", node1)\n",
    "\n",
    "# Logic\n",
    "builder.add_edge(START, \"node1\")\n",
    "builder.add_edge(\"node1\", END)\n",
    "\n",
    "# Add\n",
    "graph = builder.compile()\n",
    "\n",
    "# View\n",
    "display(Image(graph.get_graph().draw_mermaid_png()))"
   ]
  },
  {
   "cell_type": "code",
   "execution_count": 11,
   "id": "66229c14",
   "metadata": {},
   "outputs": [
    {
     "name": "stdout",
     "output_type": "stream",
     "text": [
      "---node 1---\n"
     ]
    },
    {
     "data": {
      "text/plain": [
       "{'x': [1, 2]}"
      ]
     },
     "execution_count": 11,
     "metadata": {},
     "output_type": "execute_result"
    }
   ],
   "source": [
    "graph.invoke({\"x\" : [1]})"
   ]
  },
  {
   "cell_type": "markdown",
   "id": "1e2eb04a",
   "metadata": {},
   "source": [
    "Thus, the `operator.add` reducer function will append updates from each node to the list 'x'. \n",
    "\n",
    "This function may still cause an error if we give a number instead of a list"
   ]
  },
  {
   "cell_type": "code",
   "execution_count": 13,
   "id": "745ec9cb",
   "metadata": {},
   "outputs": [
    {
     "name": "stdout",
     "output_type": "stream",
     "text": [
      "TypeError occured: can only concatenate list (not \"int\") to list\n"
     ]
    }
   ],
   "source": [
    "try:\n",
    "    graph.invoke({\"x\": 1})\n",
    "except TypeError as e:\n",
    "    print(f\"TypeError occured: {e}\")"
   ]
  },
  {
   "cell_type": "markdown",
   "id": "b1988f20",
   "metadata": {},
   "source": [
    "### Custom reducers\n",
    "\n",
    "To prevent such error, we may define a [custom reducers](https://langchain-ai.github.io/langgraph/how-tos/subgraph/#custom-reducer-functions-to-manage-state). \n",
    "\n",
    "For example, lets define custom reducer logic to combine lists and handle cases where either or both of the inputs might be `None` or not a list."
   ]
  },
  {
   "cell_type": "code",
   "execution_count": 16,
   "id": "d4e38263",
   "metadata": {},
   "outputs": [],
   "source": [
    "from typing import Union\n",
    "def reduce_list(left: Union[list, int, None], right: Union[list, int, None]) -> list:\n",
    "    \"\"\"Safely combine two lists, handling cases where either or both inputs might be int or None.\n",
    "\n",
    "    Args:\n",
    "        left (list | int | None): The first list to combine, or None.\n",
    "        right (list | int | None): The second list to combine, or None.\n",
    "\n",
    "    Returns:\n",
    "        list: A new list containing all elements from both input lists.\n",
    "               If an input is None, it's treated as an empty list.\n",
    "    \"\"\"\n",
    "    if not left:\n",
    "        left = []\n",
    "    if not right:\n",
    "        right = []\n",
    "    if isinstance(left, int):\n",
    "        left = [left]\n",
    "    if isinstance(right, int):\n",
    "        right = [right]\n",
    "    return left + right\n",
    "\n",
    "class CustomeReducerState(TypedDict):\n",
    "    x: Annotated[list[int], reduce_list]"
   ]
  },
  {
   "cell_type": "code",
   "execution_count": 19,
   "id": "29bb349e",
   "metadata": {},
   "outputs": [
    {
     "data": {
      "image/png": "[encoded data removed]",
      "text/plain": [
       "<IPython.core.display.Image object>"
      ]
     },
     "metadata": {},
     "output_type": "display_data"
    }
   ],
   "source": [
    "def node1(state: CustomeReducerState):\n",
    "    print(\"---node 1---\")\n",
    "    return {'x': [state['x'][0] * 2]}\n",
    "\n",
    "# Build graph\n",
    "builder = StateGraph(CustomeReducerState)\n",
    "builder.add_node(\"node1\", node1)\n",
    "\n",
    "# Logic\n",
    "builder.add_edge(START, \"node1\")\n",
    "builder.add_edge(\"node1\", END)\n",
    "\n",
    "# Add\n",
    "graph = builder.compile()\n",
    "\n",
    "# View\n",
    "display(Image(graph.get_graph().draw_mermaid_png()))"
   ]
  },
  {
   "cell_type": "code",
   "execution_count": 20,
   "id": "1cfb6c45",
   "metadata": {},
   "outputs": [
    {
     "name": "stdout",
     "output_type": "stream",
     "text": [
      "---node 1---\n"
     ]
    },
    {
     "data": {
      "text/plain": [
       "{'x': [3, 6]}"
      ]
     },
     "execution_count": 20,
     "metadata": {},
     "output_type": "execute_result"
    }
   ],
   "source": [
    "graph.invoke({'x': 3})"
   ]
  },
  {
   "cell_type": "code",
   "execution_count": null,
   "id": "46053d02",
   "metadata": {},
   "outputs": [],
   "source": []
  },
  {
   "cell_type": "markdown",
   "id": "ed69d6fc",
   "metadata": {},
   "source": [
    "## Messages\n",
    "\n",
    "In previous tutorials, we use the built-in reducer, `add_messages`, to handle messages in state.\n",
    "* [`MessagesState`](https://langchain-ai.github.io/langgraph/concepts/low_level/#messagesstate) (a shortcut to work with messages) has a built-in `messages` key \n",
    "* It also has a built-in `add_messages` reducer for this key\n"
   ]
  },
  {
   "cell_type": "code",
   "execution_count": 22,
   "id": "12b3a6e0",
   "metadata": {},
   "outputs": [],
   "source": [
    "from typing import Annotated\n",
    "from langgraph.graph import MessagesState\n",
    "from langchain_core.messages import AnyMessage\n",
    "from langgraph.graph.message import add_messages"
   ]
  },
  {
   "cell_type": "code",
   "execution_count": 23,
   "id": "b264ac5d",
   "metadata": {},
   "outputs": [],
   "source": [
    "# Use MessagesState, which includes the messages key with add_messages reducer\n",
    "class ExtendedMessagesState(MessagesState):\n",
    "    # Add any keys needed beyond messages, which is pre-built \n",
    "    added_key_1: str\n",
    "    added_key_2: str"
   ]
  },
  {
   "cell_type": "markdown",
   "id": "14b15bd4",
   "metadata": {},
   "source": [
    "Here, you see the application of `add_messages` reducer, which allows to append messages to `messages` key in our state."
   ]
  },
  {
   "cell_type": "code",
   "execution_count": 24,
   "id": "79f6fb51",
   "metadata": {},
   "outputs": [
    {
     "data": {
      "text/plain": [
       "[AIMessage(content='Hello! How can I assist you?', additional_kwargs={}, response_metadata={}, name='Model', id='865bceed-ef38-4265-93a1-fc268ffc555f'),\n",
       " HumanMessage(content=\"I'm looking for information on marine biology.\", additional_kwargs={}, response_metadata={}, name='Lance', id='f0acbf83-763d-4a8a-970f-469ea2a2bc7e'),\n",
       " AIMessage(content='Sure, I can help with that. What specifically are you interested in?', additional_kwargs={}, response_metadata={}, name='Model', id='44343a57-aead-46b4-833c-278de771bc06')]"
      ]
     },
     "execution_count": 24,
     "metadata": {},
     "output_type": "execute_result"
    }
   ],
   "source": [
    "from langgraph.graph.message import add_messages\n",
    "from langchain_core.messages import AIMessage, HumanMessage\n",
    "\n",
    "# Initial state\n",
    "initial_messages = [AIMessage(content=\"Hello! How can I assist you?\", name=\"Model\"),\n",
    "                    HumanMessage(content=\"I'm looking for information on marine biology.\", name=\"Lance\")\n",
    "                   ]\n",
    "\n",
    "# New message to add\n",
    "new_message = AIMessage(content=\"Sure, I can help with that. What specifically are you interested in?\", name=\"Model\")\n",
    "\n",
    "# Test\n",
    "add_messages(initial_messages , new_message)"
   ]
  },
  {
   "cell_type": "markdown",
   "id": "1f9ffcf8",
   "metadata": {},
   "source": [
    "### Re-writing\n",
    "\n",
    "Let's show some useful tricks when working with the `add_messages` reducer.\n",
    "\n",
    "If we pass a message with the same ID as an existing one in our `messages` list, it will get overwritten!"
   ]
  },
  {
   "cell_type": "code",
   "execution_count": 25,
   "id": "245fec5c",
   "metadata": {},
   "outputs": [
    {
     "data": {
      "text/plain": [
       "[AIMessage(content='Hello! How can I assist you?', additional_kwargs={}, response_metadata={}, name='Model', id='1'),\n",
       " HumanMessage(content=\"I'm looking for information on whales, specifically\", additional_kwargs={}, response_metadata={}, name='Lance', id='2')]"
      ]
     },
     "execution_count": 25,
     "metadata": {},
     "output_type": "execute_result"
    }
   ],
   "source": [
    "# Initial state\n",
    "initial_messages = [AIMessage(content=\"Hello! How can I assist you?\", name=\"Model\", id=\"1\"),\n",
    "                    HumanMessage(content=\"I'm looking for information on marine biology.\", name=\"Lance\", id=\"2\")\n",
    "                   ]\n",
    "\n",
    "# New message to add\n",
    "new_message = HumanMessage(content=\"I'm looking for information on whales, specifically\", name=\"Lance\", id=\"2\")\n",
    "\n",
    "# Test\n",
    "add_messages(initial_messages , new_message)"
   ]
  },
  {
   "cell_type": "markdown",
   "id": "676540b5",
   "metadata": {},
   "source": [
    "### Removal\n",
    "\n",
    "`add_messages` also enables [message removal](https://langchain-ai.github.io/langgraph/how-tos/memory/delete-messages/). For this:\n",
    "\n",
    "1) use [RemoveMessage](https://api.python.langchain.com/en/latest/messages/langchain_core.messages.modifier.RemoveMessage.html) from `langchain_core` to isolate messages to delete.\n",
    "\n",
    "**Parameter**\n",
    "* id - The ID of the message to remove.\n",
    "\n",
    "2) then we use `add_messages` to delete the isolated messages from the list."
   ]
  },
  {
   "cell_type": "code",
   "execution_count": 26,
   "id": "f5b0ea5e",
   "metadata": {},
   "outputs": [
    {
     "name": "stdout",
     "output_type": "stream",
     "text": [
      "[RemoveMessage(content='', additional_kwargs={}, response_metadata={}, id='1'), RemoveMessage(content='', additional_kwargs={}, response_metadata={}, id='2')]\n"
     ]
    }
   ],
   "source": [
    "from langchain_core.messages import RemoveMessage\n",
    "\n",
    "# Message list\n",
    "messages = [AIMessage(\"Hi.\", name=\"Bot\", id=\"1\")]\n",
    "messages.append(HumanMessage(\"Hi.\", name=\"Lance\", id=\"2\"))\n",
    "messages.append(AIMessage(\"So you said you were researching ocean mammals?\", name=\"Bot\", id=\"3\"))\n",
    "messages.append(HumanMessage(\"Yes, I know about whales. But what others should I learn about?\", name=\"Lance\", id=\"4\"))\n",
    "\n",
    "# Isolate messages to delete\n",
    "delete_messages = [RemoveMessage(id=m.id) for m in messages[:-2]]\n",
    "print(delete_messages)"
   ]
  },
  {
   "cell_type": "code",
   "execution_count": 27,
   "id": "3531a1b3",
   "metadata": {},
   "outputs": [
    {
     "data": {
      "text/plain": [
       "[AIMessage(content='So you said you were researching ocean mammals?', additional_kwargs={}, response_metadata={}, name='Bot', id='3'),\n",
       " HumanMessage(content='Yes, I know about whales. But what others should I learn about?', additional_kwargs={}, response_metadata={}, name='Lance', id='4')]"
      ]
     },
     "execution_count": 27,
     "metadata": {},
     "output_type": "execute_result"
    }
   ],
   "source": [
    "add_messages(messages , delete_messages)"
   ]
  },
  {
   "cell_type": "markdown",
   "id": "28dbf48a",
   "metadata": {},
   "source": [
    "We can see that mesage IDs 1 and 2, as noted in `delete_messages` are removed by the reducer."
   ]
  },
  {
   "cell_type": "code",
   "execution_count": null,
   "id": "1c532829",
   "metadata": {},
   "outputs": [],
   "source": []
  }
 ],
 "metadata": {
  "kernelspec": {
   "display_name": "lc-academy-env",
   "language": "python",
   "name": "lc-academy-env"
  },
  "language_info": {
   "codemirror_mode": {
    "name": "ipython",
    "version": 3
   },
   "file_extension": ".py",
   "mimetype": "text/x-python",
   "name": "python",
   "nbconvert_exporter": "python",
   "pygments_lexer": "ipython3",
   "version": "3.9.12"
  }
 },
 "nbformat": 4,
 "nbformat_minor": 5
}
