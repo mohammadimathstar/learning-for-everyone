{
 "cells": [
  {
   "cell_type": "code",
   "execution_count": 6,
   "id": "0cc7f45a",
   "metadata": {},
   "outputs": [
    {
     "data": {
      "text/plain": [
       "True"
      ]
     },
     "execution_count": 6,
     "metadata": {},
     "output_type": "execute_result"
    }
   ],
   "source": [
    "import os\n",
    "\n",
    "from dotenv import load_dotenv\n",
    "from pprint import pprint\n",
    "\n",
    "from langchain_core.messages import AIMessage, HumanMessage\n",
    "from langchain_openai import ChatOpenAI\n"
   ]
  },
  {
   "cell_type": "markdown",
   "id": "a2b175d2",
   "metadata": {},
   "source": [
    "### Chat Model\n",
    "\n",
    "Here, we use OpenAI chat models. First, you need to have the api key `OPENAI_API_KEY`.\n",
    "\n",
    "There are [many](https://python.langchain.com/v0.2/docs/concepts/#chat-models) model. Two most commonly used are:\n",
    "* `gpt-3.5-turbo-0125` - low price\n",
    "* `gpt-4o` -  it's a good balance of quality, price, and speed\n",
    "\n",
    "There are [a few standard parameters](https://python.langchain.com/v0.2/docs/concepts/#chat-models) that we can set with chat models. Two of the most common are:\n",
    "\n",
    "* `model`: the name of the model\n",
    "* `temperature`: the sampling temperature\n",
    "\n",
    "`Temperature` controls the randomness or creativity of the model's output where low temperature (close to 0) is more deterministic and focused outputs. This is good for tasks requiring accuracy or factual responses. High temperature (close to 1) is good for creative tasks or generating varied responses."
   ]
  },
  {
   "cell_type": "code",
   "execution_count": 7,
   "id": "afad76fe",
   "metadata": {},
   "outputs": [],
   "source": [
    "# set the openai api key (it has been save in a file called '.env')\n",
    "load_dotenv()\n",
    "\n",
    "llm = ChatOpenAI(model='gpt-3.5-turbo-0125', temperature=0)"
   ]
  },
  {
   "cell_type": "code",
   "execution_count": 19,
   "id": "1681a6b1",
   "metadata": {},
   "outputs": [],
   "source": [
    "# define a tool (perform a specific task)\n",
    "def multiply(a: int, b: int) -> int:\n",
    "    \"\"\"Multiply a and b.\n",
    "\n",
    "    Args:\n",
    "        a: first int\n",
    "        b: second int\n",
    "    \"\"\"\n",
    "    return a * b\n",
    "\n",
    "# it connect the LLM to the tool.\n",
    "# LLM decides when to use this tool (whenever LLM finds it appropriate, it use the tool)\n",
    "llm_with_tools = llm.bind_tools([multiply])"
   ]
  },
  {
   "cell_type": "markdown",
   "id": "f2ed3916",
   "metadata": {},
   "source": [
    "### Messages\n",
    "\n",
    "Chat models accepts a sequence of messages from different roles within a conversation.\n",
    "\n",
    "Each message consists of:\n",
    "* `content` - content of the message\n",
    "* `name` - optionally, a message author \n",
    "* `response_metadata` - optionally, a dict of metadata (e.g., often populated by model provider for `AIMessages`)\n",
    "\n",
    "LangChain supports various message types, including:\n",
    "* `HumanMessage` - a message from the user\n",
    "* `AIMessage` - a message from the chat model\n",
    "* `SystemMessage` - a message for the chat model to instruct its behavior\n",
    "* `ToolMessage` - a message from a tool call."
   ]
  },
  {
   "cell_type": "code",
   "execution_count": 5,
   "id": "3a09f4a9",
   "metadata": {},
   "outputs": [
    {
     "name": "stdout",
     "output_type": "stream",
     "text": [
      "==================================\u001b[1m Ai Message \u001b[0m==================================\n",
      "Name: llm\n",
      "\n",
      "So you want to know more about Einstein. What exactly do you want to know?\n",
      "================================\u001b[1m Human Message \u001b[0m=================================\n",
      "Name: Mohammad\n",
      "\n",
      "I want to know in which field he worked.\n",
      "==================================\u001b[1m Ai Message \u001b[0m==================================\n",
      "Name: llm\n",
      "\n",
      "He was a physicist.\n",
      "================================\u001b[1m Human Message \u001b[0m=================================\n",
      "Name: Mohammad\n",
      "\n",
      "Ok. Why is he so famous? .\n"
     ]
    }
   ],
   "source": [
    "messages = [AIMessage(content=f\"So you want to know more about Einstein. What exactly do you want to know?\", name=\"llm\")]\n",
    "messages.append(HumanMessage(content=f\"I want to know in which field he worked.\",name=\"Mohammad\"))\n",
    "messages.append(AIMessage(content=f\"He was a physicist.\", name=\"llm\"))\n",
    "messages.append(HumanMessage(content=f\"Ok. Why is he so famous? .\", name=\"Mohammad\"))\n",
    "\n",
    "for message in messages:\n",
    "    message.pretty_print()"
   ]
  },
  {
   "cell_type": "code",
   "execution_count": null,
   "id": "9e550e91",
   "metadata": {},
   "outputs": [],
   "source": []
  },
  {
   "cell_type": "markdown",
   "id": "c2308a74",
   "metadata": {},
   "source": [
    "# Graph\n",
    "\n",
    "LangGraph uses graphs to model agent workflows. In order to define the behavior of agents, we use three [components](\n",
    "https://langchain-ai.github.io/langgraph/concepts/low_level/):\n",
    "\n",
    "1) `State`: A shared data structure that represents the current snapshot of your application. \n",
    "\n",
    "2) `Nodes`: Python functions that encode the logic of your agents. They receive the current `State` as input, perform some computation or side-effect, and return an updated `State`.\n",
    "\n",
    "3) `Edges`: Python functions that determine which `Node` to execute next based on the current `State`. They can be conditional branches or fixed transitions.\n",
    "\n",
    "\n",
    "### State\n",
    "\n",
    "The first thing to define for a graph is the `State` of the graph. The schema of the State will be the input schema to all `Nodes` and `Edges` in the graph, and can be either \n",
    "* a `TypedDict` or \n",
    "* a `Pydantic` model. \n",
    "\n",
    "The `State` consists of:\n",
    "* the schema of the graph as well as \n",
    "* `reducer` functions which specify how to apply updates to the state.\n",
    "\n",
    "All `Nodes` will perform updates to the `State` using the specified `reducer` function."
   ]
  },
  {
   "cell_type": "code",
   "execution_count": 14,
   "id": "1aa5f3fd",
   "metadata": {},
   "outputs": [],
   "source": [
    "# *************** First way *****************\n",
    "from typing_extensions import TypedDict\n",
    "from typing import Annotated\n",
    "\n",
    "from langchain_core.messages import AnyMessage\n",
    "from langgraph.graph.message import add_messages\n",
    "\n",
    "\n",
    "class MessagesState(TypedDict):\n",
    "    # define the State of the graph \n",
    "    #   - a list of messages\n",
    "    #   - the `reducer` function `add_messages` which append the new message to the list of messages\n",
    "    messages: Annotated[list[AnyMessage], add_messages]"
   ]
  },
  {
   "cell_type": "code",
   "execution_count": 16,
   "id": "56f7286c",
   "metadata": {},
   "outputs": [
    {
     "name": "stdout",
     "output_type": "stream",
     "text": [
      "==================================\u001b[1m Ai Message \u001b[0m==================================\n",
      "Name: llm\n",
      "\n",
      "So you want to know more about Einstein. What exactly do you want to know?\n",
      "================================\u001b[1m Human Message \u001b[0m=================================\n",
      "Name: Mohammad\n",
      "\n",
      "I want to know in which field he worked.\n",
      "==================================\u001b[1m Ai Message \u001b[0m==================================\n",
      "Name: llm\n",
      "\n",
      "He was a physicist.\n"
     ]
    }
   ],
   "source": [
    "# testing the `add_messages` reducer function\n",
    "initial_messages = [\n",
    "    AIMessage(content=f\"So you want to know more about Einstein. What exactly do you want to know?\", name=\"llm\"),\n",
    "    HumanMessage(content=f\"I want to know in which field he worked.\",name=\"Mohammad\")\n",
    "]\n",
    "new_messages = AIMessage(content=f\"He was a physicist.\", name=\"llm\")\n",
    "for m in add_messages(initial_messages, new_messages):\n",
    "    m.pretty_print()"
   ]
  },
  {
   "cell_type": "code",
   "execution_count": 23,
   "id": "8e4b9837",
   "metadata": {},
   "outputs": [],
   "source": [
    "       \n",
    "# *************** second way ****************\n",
    "# Since having a list of messages in graph state is so common, LangGraph has a pre-built `MessagesState`\n",
    "from langgraph.graph import MessagesState\n",
    "class MessagesState(MessagesState):\n",
    "    pass"
   ]
  },
  {
   "cell_type": "code",
   "execution_count": null,
   "id": "888eccf2",
   "metadata": {},
   "outputs": [],
   "source": []
  },
  {
   "cell_type": "markdown",
   "id": "86041367",
   "metadata": {},
   "source": [
    "### Node\n",
    "\n",
    "In LangGraph, nodes are typically **python functions** where \n",
    "* the first positional argument is the `state`, \n",
    "* (optionally), the second positional argument is a \"config\", containing optional configurable parameters (such as a thread_id).\n",
    "\n",
    "\n",
    "By default, the new value returned by each node will override the prior state value. This is why we need to use `reducer` function.\n",
    "\n",
    "\n",
    "**START Node**\n",
    "\n",
    "It is a special node  \n",
    "* this node is called first in a graph, and\n",
    "* it sends **user input** to the graph.\n",
    "\n",
    "**END Node** \n",
    "\n",
    "It is a special node that represents a terminal node."
   ]
  },
  {
   "cell_type": "code",
   "execution_count": 18,
   "id": "7c5c74b8",
   "metadata": {},
   "outputs": [],
   "source": [
    "from langgraph.graph import START, END, StateGraph\n",
    "from IPython.display import Image, display"
   ]
  },
  {
   "cell_type": "code",
   "execution_count": 20,
   "id": "54d7a5d7",
   "metadata": {},
   "outputs": [],
   "source": [
    "# Node: a python function which uses the LLM (binded with a tool)\n",
    "def tool_calling_llm(state: MessagesState):\n",
    "    return {\"messages\": [llm_with_tools.invoke(state[\"messages\"])]}"
   ]
  },
  {
   "cell_type": "markdown",
   "id": "dbdf6838",
   "metadata": {},
   "source": [
    "### Edges\n",
    "\n",
    "Edges define how the logic is routed and and how different nodes communicate with each other. There are a few key types of edges:\n",
    "* Normal Edges: Go directly from one node to the next.\n",
    "* [Conditional Edges](https://langchain-ai.github.io/langgraph/reference/graphs/?h=conditional+edge#langgraph.graph.StateGraph.add_conditional_edges): Call a function to determine which node(s) to go to."
   ]
  },
  {
   "cell_type": "code",
   "execution_count": 21,
   "id": "a08bb5fe",
   "metadata": {},
   "outputs": [],
   "source": [
    "import random\n",
    "from typing import Literal"
   ]
  },
  {
   "cell_type": "code",
   "execution_count": 25,
   "id": "8fa7e88a",
   "metadata": {},
   "outputs": [],
   "source": [
    "# define a function for conditional edges\n",
    "def decide_mood(state: MessagesState) -> Literal[END, 'tool_calling_llm']:\n",
    "    if random.random()>0.5:\n",
    "        return True\n",
    "    else:\n",
    "        return False"
   ]
  },
  {
   "cell_type": "markdown",
   "id": "c3f11d83",
   "metadata": {},
   "source": [
    "### Graph construction\n",
    "\n",
    "The [StateGraph](https://langchain-ai.github.io/langgraph/concepts/low_level/#stategraph) is the graph class that we can use.\n",
    "* We initialize a StateGraph with the `State` class we defined above.\n",
    "* We then add our nodes and edges.\n",
    "* Finally, we [compile our graph](https://langchain-ai.github.io/langgraph/concepts/low_level/#compiling-your-graph) to perform a few basic checks on the graph structure (it implements the [runnable](https://python.langchain.com/v0.1/docs/expression_language/interface/) protocol). \n",
    "\n",
    "We can visualize the graph as a [Mermaid diagram](https://github.com/mermaid-js/mermaid)."
   ]
  },
  {
   "cell_type": "code",
   "execution_count": 26,
   "id": "2562ecd2",
   "metadata": {},
   "outputs": [
    {
     "data": {
      "image/png": "[encoded data removed]",
      "text/plain": [
       "<IPython.core.display.Image object>"
      ]
     },
     "metadata": {},
     "output_type": "display_data"
    }
   ],
   "source": [
    "# build the graph\n",
    "builder = StateGraph(MessagesState)\n",
    "\n",
    "# add a node to the graph\n",
    "builder.add_node('tool_calling_llm', tool_calling_llm)\n",
    "\n",
    "# add edges to the graph\n",
    "builder.add_conditional_edges(START, decide_mood, {True: END, False: 'tool_calling_llm'})\n",
    "builder.add_edge('tool_calling_llm', END)\n",
    "\n",
    "# Add\n",
    "graph = builder.compile()\n",
    "\n",
    "# View\n",
    "display(Image(graph.get_graph().draw_mermaid_png()))"
   ]
  },
  {
   "cell_type": "markdown",
   "id": "740eb05a",
   "metadata": {},
   "source": [
    "### Invoke the graph\n",
    "\n",
    "We use the `invoke` method on the graph, to execute it.\n",
    "\n",
    "Here, we defined a graph that with the chance of 50% it uses LLM (otherwise, it does not do anything)."
   ]
  },
  {
   "cell_type": "code",
   "execution_count": 34,
   "id": "41d9404f",
   "metadata": {},
   "outputs": [
    {
     "name": "stdout",
     "output_type": "stream",
     "text": [
      "================================\u001b[1m Human Message \u001b[0m=================================\n",
      "\n",
      "Hello!\n",
      "==================================\u001b[1m Ai Message \u001b[0m==================================\n",
      "\n",
      "Hi there! How can I assist you today?\n"
     ]
    }
   ],
   "source": [
    "messages = graph.invoke({\"messages\": HumanMessage(content=\"Hello!\")})\n",
    "\n",
    "for m in messages['messages']:\n",
    "    m.pretty_print()"
   ]
  },
  {
   "cell_type": "code",
   "execution_count": null,
   "id": "b89a5cc4",
   "metadata": {},
   "outputs": [],
   "source": []
  },
  {
   "cell_type": "code",
   "execution_count": null,
   "id": "5698c750",
   "metadata": {},
   "outputs": [],
   "source": []
  },
  {
   "cell_type": "code",
   "execution_count": null,
   "id": "381e4b94",
   "metadata": {},
   "outputs": [],
   "source": []
  },
  {
   "cell_type": "code",
   "execution_count": null,
   "id": "719f2e30",
   "metadata": {},
   "outputs": [],
   "source": []
  }
 ],
 "metadata": {
  "kernelspec": {
   "display_name": "lc-academy-env",
   "language": "python",
   "name": "lc-academy-env"
  },
  "language_info": {
   "codemirror_mode": {
    "name": "ipython",
    "version": 3
   },
   "file_extension": ".py",
   "mimetype": "text/x-python",
   "name": "python",
   "nbconvert_exporter": "python",
   "pygments_lexer": "ipython3",
   "version": "3.9.12"
  }
 },
 "nbformat": 4,
 "nbformat_minor": 5
}
