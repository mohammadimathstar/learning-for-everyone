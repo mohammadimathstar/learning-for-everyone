{
 "cells": [
  {
   "cell_type": "markdown",
   "id": "95ccccbd",
   "metadata": {},
   "source": [
    "# Multiple Schemas\n",
    "\n",
    "\n",
    "## Goals\n",
    "\n",
    "As mentioned, state schema contains the graph's input and output keys. So far, we only consider a single schema for a graph. However, there are cases where we may want a bit more control over this:\n",
    "\n",
    "* Internal nodes may pass information that is *not required* in the graph's input / output.\n",
    "\n",
    "* We may also want to use different input / output schemas for the graph. The output might, for example, only contain a single relevant output key.\n",
    "\n",
    "We'll discuss a few ways to customize graphs with multiple schemas."
   ]
  },
  {
   "cell_type": "markdown",
   "id": "87644e4b",
   "metadata": {},
   "source": [
    "### Private state\n",
    "\n",
    "By default, `StateGraph` takes in a single schema and all nodes are expected to communicate with that schema. However, in some cases, you may want nodes to exchange information that is crucial for intermediate logic but doesn’t need to be part of the main schema of the graph. This private data is not relevant to the overall input/output of the graph and should only be shared between certain nodes. For this type of data, we can define specific schamas, called [private state](https://langchain-ai.github.io/langgraph/how-tos/pass_private_state/).\n",
    "\n",
    "### Input / Output Schema\n",
    "\n",
    "It is also possible to define explicit [input and output schemas](https://langchain-ai.github.io/langgraph/how-tos/input_output_schema/?h=input+outp).\n",
    "\n",
    "Often, in these cases, we define an \"internal\" schema that contains *all* keys relevant to graph operations.\n",
    "\n",
    "But, we use specific `input` and `output` schemas to constrain the input and output."
   ]
  },
  {
   "cell_type": "code",
   "execution_count": 2,
   "id": "038a6302",
   "metadata": {},
   "outputs": [],
   "source": [
    "from langgraph.graph import StateGraph, START, END\n",
    "from typing_extensions import TypedDict\n",
    "from IPython.display import Image, display\n",
    "\n",
    "\n",
    "# The overall state of the graph (this is the public state shared across nodes)\n",
    "class OverallState(TypedDict):\n",
    "    a: str\n",
    "\n",
    "\n",
    "# Output from node_1 contains private data that is not part of the overall state\n",
    "class Node1Output(TypedDict):\n",
    "    private_data: str\n",
    "\n",
    "\n",
    "# The private data is only shared between node_1 and node_2\n",
    "def node_1(state: OverallState) -> Node1Output:\n",
    "    output = {\"private_data\": \"set by node_1\"}\n",
    "    print(f\"Entered node `node_1`:\\n\\tInput: {state}.\\n\\tReturned: {output}\")\n",
    "    return output\n",
    "\n",
    "\n",
    "# Node 2 input only requests the private data available after node_1\n",
    "class Node2Input(TypedDict):\n",
    "    private_data: str\n",
    "\n",
    "\n",
    "def node_2(state: Node2Input) -> OverallState:\n",
    "    output = {\"a\": \"set by node_2\"}\n",
    "    print(f\"Entered node `node_2`:\\n\\tInput: {state}.\\n\\tReturned: {output}\")\n",
    "    return output"
   ]
  },
  {
   "cell_type": "code",
   "execution_count": 3,
   "id": "d049c30c",
   "metadata": {},
   "outputs": [
    {
     "data": {
      "image/png": "[encoded data removed]",
      "text/plain": [
       "<IPython.core.display.Image object>"
      ]
     },
     "metadata": {},
     "output_type": "display_data"
    }
   ],
   "source": [
    "builder = StateGraph(OverallState)\n",
    "\n",
    "# create nodes\n",
    "builder.add_node('node_1', node_1)\n",
    "builder.add_node('node_2', node_2) # it accepts private data from node_1\n",
    "\n",
    "# create edges\n",
    "builder.add_edge(START, 'node_1')\n",
    "builder.add_edge('node_1', 'node_2') \n",
    "builder.add_edge('node_2', END)\n",
    "\n",
    "graph = builder.compile()\n",
    "\n",
    "# View\n",
    "display(Image(graph.get_graph().draw_mermaid_png()))"
   ]
  },
  {
   "cell_type": "code",
   "execution_count": 4,
   "id": "79efb339",
   "metadata": {},
   "outputs": [
    {
     "name": "stdout",
     "output_type": "stream",
     "text": [
      "Entered node `node_1`:\n",
      "\tInput: {'a': 'set at start'}.\n",
      "\tReturned: {'private_data': 'set by node_1'}\n",
      "Entered node `node_2`:\n",
      "\tInput: {'private_data': 'set by node_1'}.\n",
      "\tReturned: {'a': 'set by node_2'}\n"
     ]
    },
    {
     "data": {
      "text/plain": [
       "{'a': 'set by node_2'}"
      ]
     },
     "execution_count": 4,
     "metadata": {},
     "output_type": "execute_result"
    }
   ],
   "source": [
    "graph.invoke({'a': \"set at start\"})"
   ]
  },
  {
   "cell_type": "markdown",
   "id": "0a6abe1e",
   "metadata": {},
   "source": [
    "`private_data` is only included in `PrivateState`.\n",
    "\n",
    "`node_2` uses `PrivateState` as input, but writes out to `OverallState`.\n",
    "\n",
    "So, we can see that `private_data` is excluded from the graph output because it is not in `OverallState`."
   ]
  },
  {
   "cell_type": "markdown",
   "id": "2a4dd0bd",
   "metadata": {},
   "source": [
    "## Input / Output Schema\n",
    "\n",
    "By default, `StateGraph` takes in a single schema and all nodes are expected to communicate with that schema. \n",
    "\n",
    "However, it is also possible to [define explicit input and output schemas for a graph](https://langchain-ai.github.io/langgraph/how-tos/input_output_schema/?h=input+outp).\n",
    "\n",
    "Often, in these cases, we define an \"internal\" schema that contains *all* keys relevant to graph operations.\n",
    "\n",
    "But, we use specific `input` and `output` schemas to constrain the input and output.\n",
    "\n",
    "First, let's just run the graph with a single schema."
   ]
  },
  {
   "cell_type": "code",
   "execution_count": null,
   "id": "9b09e0a3",
   "metadata": {},
   "outputs": [],
   "source": []
  },
  {
   "cell_type": "code",
   "execution_count": null,
   "id": "a0200c55",
   "metadata": {},
   "outputs": [],
   "source": []
  },
  {
   "cell_type": "code",
   "execution_count": null,
   "id": "39adb310",
   "metadata": {},
   "outputs": [],
   "source": []
  },
  {
   "cell_type": "code",
   "execution_count": null,
   "id": "ee614cc9",
   "metadata": {},
   "outputs": [],
   "source": []
  },
  {
   "cell_type": "code",
   "execution_count": null,
   "id": "05e2db53",
   "metadata": {},
   "outputs": [],
   "source": []
  },
  {
   "cell_type": "code",
   "execution_count": null,
   "id": "d2692cdb",
   "metadata": {},
   "outputs": [],
   "source": []
  },
  {
   "cell_type": "code",
   "execution_count": null,
   "id": "2c6a94c0",
   "metadata": {},
   "outputs": [],
   "source": []
  },
  {
   "cell_type": "code",
   "execution_count": null,
   "id": "132c9a14",
   "metadata": {},
   "outputs": [],
   "source": []
  },
  {
   "cell_type": "code",
   "execution_count": null,
   "id": "c52feccc",
   "metadata": {},
   "outputs": [],
   "source": []
  },
  {
   "cell_type": "code",
   "execution_count": null,
   "id": "cda35f44",
   "metadata": {},
   "outputs": [],
   "source": []
  },
  {
   "cell_type": "code",
   "execution_count": null,
   "id": "26055fb1",
   "metadata": {},
   "outputs": [],
   "source": []
  },
  {
   "cell_type": "code",
   "execution_count": null,
   "id": "77432dea",
   "metadata": {},
   "outputs": [],
   "source": []
  },
  {
   "cell_type": "code",
   "execution_count": null,
   "id": "02937be1",
   "metadata": {},
   "outputs": [],
   "source": []
  }
 ],
 "metadata": {
  "kernelspec": {
   "display_name": "lc-academy-env",
   "language": "python",
   "name": "lc-academy-env"
  },
  "language_info": {
   "codemirror_mode": {
    "name": "ipython",
    "version": 3
   },
   "file_extension": ".py",
   "mimetype": "text/x-python",
   "name": "python",
   "nbconvert_exporter": "python",
   "pygments_lexer": "ipython3",
   "version": "3.9.12"
  }
 },
 "nbformat": 4,
 "nbformat_minor": 5
}
