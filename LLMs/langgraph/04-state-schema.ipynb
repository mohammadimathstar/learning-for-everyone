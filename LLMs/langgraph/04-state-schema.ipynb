{
 "cells": [
  {
   "cell_type": "markdown",
   "id": "7aaebbdd",
   "metadata": {},
   "source": [
    "# State Schema\n",
    "\n",
    "## Review\n",
    "\n",
    "Previously, we built an agent that can:\n",
    "\n",
    "* `act` - let the model call specific tools \n",
    "* `observe` - pass the tool output back to the model \n",
    "* `reason` - let the model reason about the tool output to decide what to do next (e.g., call another tool or just respond directly)\n",
    "* `persist state` - use an in memory checkpointer to support long-running conversations with interruptions\n",
    "\n",
    "## Goals\n",
    "\n",
    "Now, we want to continue with getting a deeper understanding  of `State`."
   ]
  },
  {
   "cell_type": "code",
   "execution_count": 2,
   "id": "81b0cd0b",
   "metadata": {},
   "outputs": [
    {
     "data": {
      "text/plain": [
       "True"
      ]
     },
     "execution_count": 2,
     "metadata": {},
     "output_type": "execute_result"
    }
   ],
   "source": [
    "import os\n",
    "\n",
    "from dotenv import load_dotenv\n",
    "\n",
    "load_dotenv()"
   ]
  },
  {
   "cell_type": "markdown",
   "id": "9585ba72",
   "metadata": {},
   "source": [
    "# Schema\n",
    "\n",
    "In order to define input schemas to nodes, we define [state schema](https://langchain-ai.github.io/langgraph/concepts/low_level/#state). This defines the structure and types of data that graph uses:\n",
    "* All nodes use this schema to communicate with one another.\n",
    "\n",
    "To define state schema, on may use various libraries, including:\n",
    "* TypedDict, and\n",
    "* pydantic\n",
    "\n",
    "### TypedDict\n",
    "\n",
    "As it has been shown, one may use `TypedDict` to define a dictionary containing keys and values. The only different it has (with the normal dictation) is that it allows to define the data type of each value.  "
   ]
  },
  {
   "cell_type": "code",
   "execution_count": 4,
   "id": "988d8128",
   "metadata": {},
   "outputs": [],
   "source": [
    "from typing_extensions import TypedDict\n",
    "from typing import Literal\n",
    "\n",
    "class TypedDictState(TypedDict):\n",
    "    name: str\n",
    "    taste: Literal['good', 'bad']"
   ]
  },
  {
   "cell_type": "code",
   "execution_count": 8,
   "id": "71db2d13",
   "metadata": {},
   "outputs": [
    {
     "data": {
      "image/png": "[encoded data removed]",
      "text/plain": [
       "<IPython.core.display.Image object>"
      ]
     },
     "metadata": {},
     "output_type": "display_data"
    }
   ],
   "source": [
    "import random\n",
    "from IPython.display import Image, display\n",
    "from langgraph.graph import StateGraph, START, END\n",
    "\n",
    "def node1(state: TypedDictState):\n",
    "    print(\"----Node 1----\")\n",
    "    return {'name': 'The tast of the ' + state['name'] + \" is \"}\n",
    "\n",
    "def node2(state: TypedDictState):\n",
    "    print(\"----Node 2----\")\n",
    "    return {'taste': 'good'}\n",
    "\n",
    "def node3(state: TypedDictState):\n",
    "    print(\"----Node 2----\")\n",
    "    return {'taste': 'bad'}\n",
    "\n",
    "def decide(state) -> Literal[\"node2\", \"node3\"]:\n",
    "        \n",
    "    # Here, let's just do a 50 / 50 split between nodes 2, 3\n",
    "    if random.random() < 0.5:\n",
    "        return \"node2\"\n",
    "    \n",
    "    return \"node3\"\n",
    "\n",
    "# Build graph\n",
    "builder = StateGraph(TypedDictState)\n",
    "builder.add_node(\"node1\", node1)\n",
    "builder.add_node(\"node2\", node2)\n",
    "builder.add_node(\"node3\", node3)\n",
    "\n",
    "# Logic\n",
    "builder.add_edge(START, \"node1\")\n",
    "builder.add_conditional_edges(\"node1\", decide)\n",
    "builder.add_edge(\"node2\", END)\n",
    "builder.add_edge(\"node3\", END)\n",
    "\n",
    "# Add\n",
    "graph = builder.compile()\n",
    "\n",
    "# View\n",
    "display(Image(graph.get_graph().draw_mermaid_png()))"
   ]
  },
  {
   "cell_type": "code",
   "execution_count": 9,
   "id": "d45141ec",
   "metadata": {},
   "outputs": [
    {
     "name": "stdout",
     "output_type": "stream",
     "text": [
      "----Node 1----\n",
      "----Node 2----\n"
     ]
    },
    {
     "data": {
      "text/plain": [
       "{'name': 'The tast of the kapsalon is ', 'taste': 'bad'}"
      ]
     },
     "execution_count": 9,
     "metadata": {},
     "output_type": "execute_result"
    }
   ],
   "source": [
    "graph.invoke({'name': 'kapsalon'})"
   ]
  },
  {
   "cell_type": "code",
   "execution_count": null,
   "id": "095bfee8",
   "metadata": {},
   "outputs": [],
   "source": []
  },
  {
   "cell_type": "markdown",
   "id": "4cd26a71",
   "metadata": {},
   "source": [
    "### Pydantic\n",
    "\n",
    "`TypedDict` only provides type instruction, but at runtime it does not enforce types. Thus, if we use a wrong data type for a value, it does not give any error.\n",
    "\n",
    "To ensure we always provide the correct data type for any value, we can use [Pydantic](https://docs.pydantic.dev/latest/api/base_model/):\n",
    "* it can perform validation to check if data has the specified types and constraints at runtime."
   ]
  },
  {
   "cell_type": "code",
   "execution_count": 10,
   "id": "02d034b3",
   "metadata": {},
   "outputs": [
    {
     "name": "stdout",
     "output_type": "stream",
     "text": [
      "Validation Error:  1 validation error for PydanticState\n",
      "taste\n",
      "  Value error, The taste must be either 'good' or 'bad' [type=value_error, input_value='not good', input_type=str]\n",
      "    For further information visit https://errors.pydantic.dev/2.9/v/value_error\n"
     ]
    }
   ],
   "source": [
    "from pydantic import BaseModel, field_validator, ValidationError\n",
    "\n",
    "class PydanticState(BaseModel):\n",
    "    name: str\n",
    "    taste: str\n",
    "        \n",
    "    @field_validator('taste')\n",
    "    @classmethod\n",
    "    def validate_taste(cls, value):\n",
    "        # to ensure if the taste is 'good' or 'bad'\n",
    "        if value not in ['good', 'bad']:\n",
    "            raise ValueError(\"The taste must be either 'good' or 'bad'\")\n",
    "        return value\n",
    "    \n",
    "try:\n",
    "    state = PydanticState(name=\"kapsalon\", taste='not good')\n",
    "except ValidationError as e:\n",
    "    print(\"Validation Error: \", e)\n",
    "        "
   ]
  },
  {
   "cell_type": "code",
   "execution_count": null,
   "id": "e7272608",
   "metadata": {},
   "outputs": [],
   "source": []
  },
  {
   "cell_type": "code",
   "execution_count": null,
   "id": "1e763c93",
   "metadata": {},
   "outputs": [],
   "source": []
  },
  {
   "cell_type": "code",
   "execution_count": null,
   "id": "a0240ed8",
   "metadata": {},
   "outputs": [],
   "source": []
  },
  {
   "cell_type": "code",
   "execution_count": null,
   "id": "4d3aeadb",
   "metadata": {},
   "outputs": [],
   "source": []
  },
  {
   "cell_type": "code",
   "execution_count": null,
   "id": "b86a1ca4",
   "metadata": {},
   "outputs": [],
   "source": []
  },
  {
   "cell_type": "code",
   "execution_count": null,
   "id": "414a79b7",
   "metadata": {},
   "outputs": [],
   "source": []
  },
  {
   "cell_type": "code",
   "execution_count": null,
   "id": "e799d2b5",
   "metadata": {},
   "outputs": [],
   "source": []
  }
 ],
 "metadata": {
  "kernelspec": {
   "display_name": "lc-academy-env",
   "language": "python",
   "name": "lc-academy-env"
  },
  "language_info": {
   "codemirror_mode": {
    "name": "ipython",
    "version": 3
   },
   "file_extension": ".py",
   "mimetype": "text/x-python",
   "name": "python",
   "nbconvert_exporter": "python",
   "pygments_lexer": "ipython3",
   "version": "3.9.12"
  }
 },
 "nbformat": 4,
 "nbformat_minor": 5
}
