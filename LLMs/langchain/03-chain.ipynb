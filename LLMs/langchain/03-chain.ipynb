{
 "cells": [
  {
   "cell_type": "code",
   "execution_count": 1,
   "id": "bb7dd707-5a21-4641-8460-f975b321d390",
   "metadata": {},
   "outputs": [
    {
     "data": {
      "text/plain": [
       "True"
      ]
     },
     "execution_count": 1,
     "metadata": {},
     "output_type": "execute_result"
    }
   ],
   "source": [
    "from dotenv import load_dotenv\n",
    "\n",
    "load_dotenv()"
   ]
  },
  {
   "cell_type": "markdown",
   "id": "0bee30fc-bbcc-4891-b5aa-1d8770e5c407",
   "metadata": {},
   "source": [
    "## Chain\n",
    "\n",
    "Chains refer to sequences of calls - whether to an LLM, a tool, or a data preprocessing step."
   ]
  },
  {
   "cell_type": "code",
   "execution_count": 2,
   "id": "46e40e38-1401-42e9-a036-047307d43a73",
   "metadata": {},
   "outputs": [],
   "source": [
    "from langchain_openai import ChatOpenAI\n",
    "from langchain_core.output_parsers import StrOutputParser\n",
    "from langchain_core.prompts import ChatPromptTemplate"
   ]
  },
  {
   "cell_type": "code",
   "execution_count": 3,
   "id": "a4c35346-3c2b-420f-907d-67a3457f95e4",
   "metadata": {},
   "outputs": [],
   "source": [
    "# Load the LLM model\n",
    "llm = ChatOpenAI(model='gpt-3.5-turbo-0125', temperature=0)\n",
    "\n",
    "# Create prompt template\n",
    "prompt_template = ChatPromptTemplate(\n",
    "    [\n",
    "        ('system', 'you are a helpful assistant.'),\n",
    "        ('user', \"tell me about {topic}\")\n",
    "    ]\n",
    ")"
   ]
  },
  {
   "cell_type": "code",
   "execution_count": 10,
   "id": "ed47d920-0549-4d32-bb15-b7df37ac0b6f",
   "metadata": {},
   "outputs": [
    {
     "data": {
      "text/plain": [
       "\"The Netherlands, also known as Holland, is a country located in Northwestern Europe. It is known for its flat landscape, picturesque windmills, tulip fields, and extensive canal systems. The capital city is Amsterdam, which is famous for its historic architecture, vibrant cultural scene, and picturesque canals.\\n\\nThe Netherlands is a constitutional monarchy with a parliamentary system. It is a highly developed country with a strong economy, known for its innovative industries such as agriculture, technology, and design. The Dutch are also known for their liberal social policies, including a tolerant attitude towards drugs and a strong emphasis on environmental sustainability.\\n\\nThe Netherlands is a popular tourist destination, attracting visitors with its charming cities, beautiful countryside, and rich cultural heritage. Some of the country's other notable cities include Rotterdam, The Hague, and Utrecht. The Dutch are also known for their love of cycling, with extensive bike paths and a cycling culture that is deeply ingrained in the national identity.\\n\\nOverall, the Netherlands is a fascinating country with a rich history, vibrant culture, and friendly people.\""
      ]
     },
     "execution_count": 10,
     "metadata": {},
     "output_type": "execute_result"
    }
   ],
   "source": [
    "# create a chain consisting of a sequence of calls\n",
    "chain = prompt_template | llm | StrOutputParser()\n",
    "\n",
    "result = chain.invoke({'topic': 'the Netherlands'})\n",
    "result"
   ]
  },
  {
   "cell_type": "code",
   "execution_count": null,
   "id": "677b188c-b1cf-4ea1-913b-75099125715e",
   "metadata": {},
   "outputs": [],
   "source": []
  },
  {
   "cell_type": "markdown",
   "id": "c25a0ff2-0131-46e5-b810-fb61b690c5ab",
   "metadata": {},
   "source": [
    "## Under the hood\n",
    "\n",
    "As we see above:\n",
    "* we can define the different parts of a chain where each part performs a specific task,\n",
    "* then, the operator `|` connects them.\n",
    "\n",
    "Under the hood, \n",
    "* each part is defined as a `RunnableLambda` where it accept an input and generate an output, similar to `lambda` function in python.\n",
    "* then different parts are connected by `RunnableSequence`.\n",
    "\n"
   ]
  },
  {
   "cell_type": "code",
   "execution_count": 4,
   "id": "f2f5bdd5-bb31-4f0e-995b-95ff07b83ce0",
   "metadata": {},
   "outputs": [],
   "source": [
    "from langchain_core.runnables import RunnableLambda, RunnableSequence"
   ]
  },
  {
   "cell_type": "code",
   "execution_count": 7,
   "id": "e67729e5-21c9-4323-8d96-cd613473eed9",
   "metadata": {},
   "outputs": [
    {
     "data": {
      "text/plain": [
       "\"The Netherlands, also known as Holland, is a country located in Northwestern Europe. It is known for its flat landscape, picturesque windmills, tulip fields, and extensive canal systems. The capital city is Amsterdam, which is famous for its historic architecture, vibrant cultural scene, and picturesque canals.\\n\\nThe Netherlands is a constitutional monarchy with a parliamentary system. It is a highly developed country with a strong economy, known for its innovative industries, such as agriculture, technology, and design. The Dutch are also known for their progressive social policies, including a strong emphasis on environmental sustainability and social welfare.\\n\\nThe Netherlands is a popular tourist destination, attracting visitors with its charming cities, beautiful countryside, and rich cultural heritage. Some of the country's other notable cities include Rotterdam, The Hague, and Utrecht. The Dutch are also known for their love of cycling, with extensive bike paths and a bike-friendly culture throughout the country.\\n\\nOverall, the Netherlands is a fascinating country with a rich history, vibrant culture, and friendly people.\""
      ]
     },
     "execution_count": 7,
     "metadata": {},
     "output_type": "execute_result"
    }
   ],
   "source": [
    "prompt_format = RunnableLambda(lambda x: prompt_template.format_prompt(**x)) # note that the input for this function is a dictionary\n",
    "invoke_model = RunnableLambda(lambda x: llm.invoke(x.to_messages())) # to_messages(): returns a list of messages\n",
    "output = RunnableLambda(lambda x: x.content)\n",
    "\n",
    "chain1 = RunnableSequence(\n",
    "    first=prompt_format, # first component\n",
    "    middle=[invoke_model], \n",
    "    last=output # last component\n",
    ")\n",
    "chain1.invoke({'topic': 'the Netherlands'})"
   ]
  },
  {
   "cell_type": "code",
   "execution_count": null,
   "id": "25deecd6-2fe8-456f-9b4f-3c7805137b2f",
   "metadata": {},
   "outputs": [],
   "source": []
  },
  {
   "cell_type": "code",
   "execution_count": 10,
   "id": "192f7c53-79c1-4915-b430-1862ebccd1fb",
   "metadata": {},
   "outputs": [
    {
     "data": {
      "text/plain": [
       "\"The Netherlands, also known as Holland, is a country located in Northwestern Europe. It is known for its flat landscape, picturesque windmills, tulip fields, and extensive canal systems. The capital city is Amsterdam, which is famous for its historic architecture, vibrant cultural scene, and picturesque canals.\\n\\nThe Netherlands is a constitutional monarchy with a parliamentary system. It is a highly developed country with a strong economy, known for its innovative industries, such as agriculture, technology, and design. The Dutch are also known for their progressive social policies, including a strong emphasis on environmental sustainability and social welfare.\\n\\nThe Netherlands is a popular tourist destination, attracting visitors with its charming cities, beautiful countryside, and rich cultural heritage. Some of the country's other notable cities include Rotterdam, The Hague, and Utrecht. The Dutch are also known for their love of cycling, with extensive bike paths and a bike-friendly culture throughout the country.\\n\\nOverall, the Netherlands is a fascinating country with a rich history, vibrant culture, and friendly people.\""
      ]
     },
     "execution_count": 10,
     "metadata": {},
     "output_type": "execute_result"
    }
   ],
   "source": [
    "chain2 = prompt_format | invoke_model | output\n",
    "chain2.invoke({'topic': 'Netherlands'})"
   ]
  },
  {
   "cell_type": "code",
   "execution_count": null,
   "id": "1b86fa03-e8c0-4ba5-8b0d-d8559d5983aa",
   "metadata": {},
   "outputs": [],
   "source": []
  },
  {
   "cell_type": "markdown",
   "id": "368b9246-5075-4c86-92b7-a2fc33192e89",
   "metadata": {},
   "source": [
    "For more information about Runnables please check [Runnable](https://python.langchain.com/docs/how_to/lcel_cheatsheet/)"
   ]
  },
  {
   "cell_type": "code",
   "execution_count": null,
   "id": "67e63aa3-b2f5-4498-be26-f2fb0aa4582e",
   "metadata": {},
   "outputs": [],
   "source": []
  },
  {
   "cell_type": "code",
   "execution_count": null,
   "id": "a30020c7-58e5-43c4-b082-4cd5d90aaf3d",
   "metadata": {},
   "outputs": [],
   "source": []
  },
  {
   "cell_type": "code",
   "execution_count": null,
   "id": "43e0d4e5-04be-4d8e-b2cb-8e0c69b3447b",
   "metadata": {},
   "outputs": [],
   "source": []
  }
 ],
 "metadata": {
  "kernelspec": {
   "display_name": "llm-langchain",
   "language": "python",
   "name": "llm-langchain"
  },
  "language_info": {
   "codemirror_mode": {
    "name": "ipython",
    "version": 3
   },
   "file_extension": ".py",
   "mimetype": "text/x-python",
   "name": "python",
   "nbconvert_exporter": "python",
   "pygments_lexer": "ipython3",
   "version": "3.12.7"
  }
 },
 "nbformat": 4,
 "nbformat_minor": 5
}
