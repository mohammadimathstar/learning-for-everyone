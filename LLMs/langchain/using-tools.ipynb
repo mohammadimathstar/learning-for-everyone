{
 "cells": [
  {
   "cell_type": "code",
   "execution_count": 2,
   "id": "6187cad6",
   "metadata": {},
   "outputs": [],
   "source": [
    "# !pip install wikipedia"
   ]
  },
  {
   "cell_type": "code",
   "execution_count": 2,
   "id": "781c7b14",
   "metadata": {},
   "outputs": [
    {
     "data": {
      "text/plain": [
       "True"
      ]
     },
     "execution_count": 2,
     "metadata": {},
     "output_type": "execute_result"
    }
   ],
   "source": [
    "import os\n",
    "\n",
    "from dotenv import load_dotenv\n",
    "from langchain_openai import ChatOpenAI\n",
    "from langchain_core.prompts import PromptTemplate\n",
    "\n",
    "from langchain_core.tools import tool\n",
    "\n",
    "load_dotenv()"
   ]
  },
  {
   "cell_type": "code",
   "execution_count": 4,
   "id": "a49fc346",
   "metadata": {},
   "outputs": [
    {
     "data": {
      "text/plain": [
       "True"
      ]
     },
     "execution_count": 4,
     "metadata": {},
     "output_type": "execute_result"
    }
   ],
   "source": []
  },
  {
   "cell_type": "code",
   "execution_count": 5,
   "id": "c25a780a",
   "metadata": {},
   "outputs": [],
   "source": [
    "# 1. create the tool\n",
    "@tool\n",
    "def get_temperature(city: str) -> str:\n",
    "    \"\"\"\n",
    "    To find the current temperature in the given city\n",
    "    \n",
    "    Args:\n",
    "        city: the name of the city that we want to have its temperature.\n",
    "    \"\"\"\n",
    "    return \"15 celcius\"\n",
    "\n",
    "@tool\n",
    "def get_time(city: str) -> str:\n",
    "    \"\"\"\n",
    "    To find the time in the given city\n",
    "    \n",
    "    Args:\n",
    "        city: the name of the city that we want to have its time.\n",
    "    \"\"\"\n",
    "    return \"12:30:02\""
   ]
  },
  {
   "cell_type": "code",
   "execution_count": 6,
   "id": "78e80b78",
   "metadata": {},
   "outputs": [],
   "source": [
    "model = ChatOpenAI(model='gpt-3.5-turbo')\n",
    "\n",
    "# 2. to connect the tool with the model\n",
    "tools = [get_temperature, get_time]\n",
    "model_with_tool = model.bind_tools(tools)"
   ]
  },
  {
   "cell_type": "code",
   "execution_count": 7,
   "id": "5cfb0ea3",
   "metadata": {},
   "outputs": [
    {
     "name": "stdout",
     "output_type": "stream",
     "text": [
      "text='What is the time in California? and also give me its current temperature.'\n"
     ]
    }
   ],
   "source": [
    "# 3. execution of the tool (if needed)\n",
    "prompt_template = \"What is the time in {city}? and also give me its current temperature.\"\n",
    "prompt = PromptTemplate.from_template(prompt_template).invoke({'city': \"California\"})\n",
    "print(prompt)\n",
    "\n",
    "result_with_tool = model_with_tool.invoke(prompt)"
   ]
  },
  {
   "cell_type": "code",
   "execution_count": 8,
   "id": "975f9c0e",
   "metadata": {},
   "outputs": [
    {
     "data": {
      "text/plain": [
       "''"
      ]
     },
     "execution_count": 8,
     "metadata": {},
     "output_type": "execute_result"
    }
   ],
   "source": [
    "result_with_tool.content"
   ]
  },
  {
   "cell_type": "markdown",
   "id": "7f1464ac",
   "metadata": {},
   "source": [
    "__As it can be seen, LLM does not return any answer__\n",
    "\n",
    "    But if we use `tool_calls` we can see that the model wants us to call `get_time` and `get_temperature` tools."
   ]
  },
  {
   "cell_type": "code",
   "execution_count": 9,
   "id": "864c2b00",
   "metadata": {},
   "outputs": [
    {
     "name": "stdout",
     "output_type": "stream",
     "text": [
      "[{'name': 'get_time', 'args': {'city': 'California'}, 'id': 'call_TXREKOT8bA6lxVWpusCSMLZn', 'type': 'tool_call'}, {'name': 'get_temperature', 'args': {'city': 'California'}, 'id': 'call_Eu8KAxngwVaKKki100u2AGIQ', 'type': 'tool_call'}]\n"
     ]
    }
   ],
   "source": [
    "print(result_with_tool.tool_calls)"
   ]
  },
  {
   "cell_type": "markdown",
   "id": "0820b65a",
   "metadata": {},
   "source": [
    "Now we can use this information to create a prompt for the LLM with the needed information."
   ]
  },
  {
   "cell_type": "code",
   "execution_count": 10,
   "id": "bbff74cb",
   "metadata": {},
   "outputs": [
    {
     "name": "stdout",
     "output_type": "stream",
     "text": [
      "[HumanMessage(content='What is the time in California? and also give me its current temperature.', additional_kwargs={}, response_metadata={}), AIMessage(content='', additional_kwargs={'tool_calls': [{'id': 'call_TXREKOT8bA6lxVWpusCSMLZn', 'function': {'arguments': '{\"city\": \"California\"}', 'name': 'get_time'}, 'type': 'function'}, {'id': 'call_Eu8KAxngwVaKKki100u2AGIQ', 'function': {'arguments': '{\"city\": \"California\"}', 'name': 'get_temperature'}, 'type': 'function'}], 'refusal': None}, response_metadata={'token_usage': {'completion_tokens': 43, 'prompt_tokens': 127, 'total_tokens': 170, 'completion_tokens_details': {'accepted_prediction_tokens': 0, 'audio_tokens': 0, 'reasoning_tokens': 0, 'rejected_prediction_tokens': 0}, 'prompt_tokens_details': {'audio_tokens': 0, 'cached_tokens': 0}}, 'model_name': 'gpt-3.5-turbo-0125', 'system_fingerprint': None, 'finish_reason': 'tool_calls', 'logprobs': None}, id='run-8a230188-44c6-41d1-8643-37fa8245618e-0', tool_calls=[{'name': 'get_time', 'args': {'city': 'California'}, 'id': 'call_TXREKOT8bA6lxVWpusCSMLZn', 'type': 'tool_call'}, {'name': 'get_temperature', 'args': {'city': 'California'}, 'id': 'call_Eu8KAxngwVaKKki100u2AGIQ', 'type': 'tool_call'}], usage_metadata={'input_tokens': 127, 'output_tokens': 43, 'total_tokens': 170, 'input_token_details': {'audio': 0, 'cache_read': 0}, 'output_token_details': {'audio': 0, 'reasoning': 0}}), ToolMessage(content='12:30:02', tool_call_id='call_TXREKOT8bA6lxVWpusCSMLZn'), ToolMessage(content='15 celcius', tool_call_id='call_Eu8KAxngwVaKKki100u2AGIQ')]\n"
     ]
    }
   ],
   "source": [
    "from langchain_core.messages import HumanMessage, ToolMessage\n",
    "\n",
    "messages = [HumanMessage(prompt.text)]\n",
    "messages.append(result_with_tool)\n",
    "\n",
    "tools_map = {\"get_temperature\": get_temperature, \"get_time\": get_time}\n",
    "for tool_call in result_with_tool.tool_calls:\n",
    "    selected_tool = tools_map[tool_call['name']]\n",
    "    tool_output = selected_tool.invoke(tool_call['args'])\n",
    "    messages.append(ToolMessage(tool_output, tool_call_id=tool_call['id']))\n",
    "    \n",
    "print(messages)"
   ]
  },
  {
   "cell_type": "code",
   "execution_count": 11,
   "id": "99cfaafa",
   "metadata": {},
   "outputs": [
    {
     "data": {
      "text/plain": [
       "'The current time in California is 12:30:02 and the temperature is 15°C.'"
      ]
     },
     "execution_count": 11,
     "metadata": {},
     "output_type": "execute_result"
    }
   ],
   "source": [
    "final_result = model_with_tool.invoke(messages)\n",
    "final_result.content"
   ]
  },
  {
   "cell_type": "code",
   "execution_count": null,
   "id": "e665f6ef",
   "metadata": {},
   "outputs": [],
   "source": []
  },
  {
   "cell_type": "markdown",
   "id": "e03eca63",
   "metadata": {},
   "source": [
    "## Wikipedia"
   ]
  },
  {
   "cell_type": "code",
   "execution_count": 4,
   "id": "480fe681",
   "metadata": {},
   "outputs": [],
   "source": [
    "from wikipedia_utils import get_wikipedia_text"
   ]
  },
  {
   "cell_type": "code",
   "execution_count": 10,
   "id": "e812da1b",
   "metadata": {},
   "outputs": [
    {
     "ename": "NameError",
     "evalue": "name 'get_person_details' is not defined",
     "output_type": "error",
     "traceback": [
      "\u001b[0;31m---------------------------------------------------------------------------\u001b[0m",
      "\u001b[0;31mNameError\u001b[0m                                 Traceback (most recent call last)",
      "Input \u001b[0;32mIn [10]\u001b[0m, in \u001b[0;36m<cell line: 3>\u001b[0;34m()\u001b[0m\n\u001b[1;32m      1\u001b[0m \u001b[38;5;66;03m# Example usage:\u001b[39;00m\n\u001b[1;32m      2\u001b[0m name \u001b[38;5;241m=\u001b[39m \u001b[38;5;124m\"\u001b[39m\u001b[38;5;124mAlbert Einstein\u001b[39m\u001b[38;5;124m\"\u001b[39m\n\u001b[0;32m----> 3\u001b[0m \u001b[38;5;28mprint\u001b[39m(\u001b[43mget_person_details\u001b[49m(name))\n",
      "\u001b[0;31mNameError\u001b[0m: name 'get_person_details' is not defined"
     ]
    }
   ],
   "source": [
    "# Example usage:\n",
    "name = \"Albert Einstein\"\n",
    "print(get_person_details(name))\n"
   ]
  },
  {
   "cell_type": "code",
   "execution_count": null,
   "id": "96a97f68",
   "metadata": {},
   "outputs": [],
   "source": []
  }
 ],
 "metadata": {
  "kernelspec": {
   "display_name": "llms",
   "language": "python",
   "name": "llms"
  },
  "language_info": {
   "codemirror_mode": {
    "name": "ipython",
    "version": 3
   },
   "file_extension": ".py",
   "mimetype": "text/x-python",
   "name": "python",
   "nbconvert_exporter": "python",
   "pygments_lexer": "ipython3",
   "version": "3.9.12"
  }
 },
 "nbformat": 4,
 "nbformat_minor": 5
}
