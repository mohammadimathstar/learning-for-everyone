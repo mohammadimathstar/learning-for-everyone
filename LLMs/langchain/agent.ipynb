{
 "cells": [
  {
   "cell_type": "code",
   "execution_count": 3,
   "id": "2e4b6f4f",
   "metadata": {},
   "outputs": [],
   "source": [
    "# !pip install -U langchain-community langgraph langchain-anthropic tavily-python langgraph-checkpoint-sqlite"
   ]
  },
  {
   "cell_type": "code",
   "execution_count": 8,
   "id": "36111298",
   "metadata": {},
   "outputs": [
    {
     "data": {
      "text/plain": [
       "True"
      ]
     },
     "execution_count": 8,
     "metadata": {},
     "output_type": "execute_result"
    }
   ],
   "source": [
    "from langchain_openai import ChatOpenAI\n",
    "\n",
    "# Tavily - a search engine\n",
    "from langchain_community.tools.tavily_search import TavilySearchResults\n",
    "\n",
    "from dotenv import load_dotenv\n",
    "\n",
    "load_dotenv()"
   ]
  },
  {
   "cell_type": "code",
   "execution_count": null,
   "id": "7ff41a5e",
   "metadata": {},
   "outputs": [],
   "source": []
  },
  {
   "cell_type": "code",
   "execution_count": 7,
   "id": "9c450ab6",
   "metadata": {},
   "outputs": [
    {
     "name": "stdout",
     "output_type": "stream",
     "text": [
      "[{'url': 'https://www.weatherapi.com/', 'content': \"{'location': {'name': 'San Francisco', 'region': 'California', 'country': 'United States of America', 'lat': 37.775, 'lon': -122.4183, 'tz_id': 'America/Los_Angeles', 'localtime_epoch': 1731691457, 'localtime': '2024-11-15 09:24'}, 'current': {'last_updated_epoch': 1731690900, 'last_updated': '2024-11-15 09:15', 'temp_c': 12.2, 'temp_f': 54.0, 'is_day': 1, 'condition': {'text': 'Partly cloudy', 'icon': '//cdn.weatherapi.com/weather/64x64/day/116.png', 'code': 1003}, 'wind_mph': 8.1, 'wind_kph': 13.0, 'wind_degree': 330, 'wind_dir': 'NNW', 'pressure_mb': 1015.0, 'pressure_in': 29.98, 'precip_mm': 0.0, 'precip_in': 0.0, 'humidity': 59, 'cloud': 25, 'feelslike_c': 10.9, 'feelslike_f': 51.5, 'windchill_c': 7.4, 'windchill_f': 45.3, 'heatindex_c': 9.6, 'heatindex_f': 49.3, 'dewpoint_c': 6.6, 'dewpoint_f': 43.9, 'vis_km': 16.0, 'vis_miles': 9.0, 'uv': 0.6, 'gust_mph': 11.4, 'gust_kph': 18.3}}\"}, {'url': 'https://www.timeanddate.com/weather/usa/san-francisco/hourly', 'content': 'Currently: 61 °F. Passing clouds. (Weather station: San Francisco International Airport, USA). See more current weather'}]\n"
     ]
    }
   ],
   "source": [
    "search = TavilySearchResults(max_results=2) \n",
    "\n",
    "search_results = search.invoke(\"what is the weather in SF\")\n",
    "print(search_results)"
   ]
  },
  {
   "cell_type": "code",
   "execution_count": 9,
   "id": "1d87fc20",
   "metadata": {},
   "outputs": [],
   "source": [
    "llm = ChatOpenAI(model='gpt-3.5-turbo')\n",
    "\n",
    "# TavilySearchResults can be used as a tool\n",
    "tools = [search]\n",
    "llm_with_tools = llm.bind_tools(tools)"
   ]
  },
  {
   "cell_type": "code",
   "execution_count": 10,
   "id": "f68e241d",
   "metadata": {},
   "outputs": [
    {
     "data": {
      "text/plain": [
       "[{'name': 'tavily_search_results_json',\n",
       "  'args': {'query': 'weather in San Francisco'},\n",
       "  'id': 'call_i1li9E2lvpimrJZv7mM5kX9n',\n",
       "  'type': 'tool_call'}]"
      ]
     },
     "execution_count": 10,
     "metadata": {},
     "output_type": "execute_result"
    }
   ],
   "source": [
    "result = llm_with_tools.invoke(\"what is the weather in SF?\")\n",
    "result.tool_calls"
   ]
  },
  {
   "cell_type": "code",
   "execution_count": 15,
   "id": "01368998",
   "metadata": {},
   "outputs": [
    {
     "data": {
      "text/plain": [
       "''"
      ]
     },
     "execution_count": 15,
     "metadata": {},
     "output_type": "execute_result"
    }
   ],
   "source": [
    "# note that the llm did not returned the expected output. For that, one ways is to use agents\n",
    "result.content"
   ]
  },
  {
   "cell_type": "markdown",
   "id": "679d5bfb",
   "metadata": {},
   "source": [
    "### Create an agent\n",
    "\n",
    "we use `langgraph` to create an agent."
   ]
  },
  {
   "cell_type": "code",
   "execution_count": 11,
   "id": "5abf7ec7",
   "metadata": {},
   "outputs": [],
   "source": [
    "from langgraph.prebuilt import create_react_agent"
   ]
  },
  {
   "cell_type": "code",
   "execution_count": 13,
   "id": "b920ebe9",
   "metadata": {},
   "outputs": [
    {
     "data": {
      "text/plain": [
       "<langgraph.graph.state.CompiledStateGraph at 0x7f23d76f8550>"
      ]
     },
     "execution_count": 13,
     "metadata": {},
     "output_type": "execute_result"
    }
   ],
   "source": [
    "agent_executer = create_react_agent(\n",
    "    llm,\n",
    "    tools\n",
    ")\n",
    "agent_executer"
   ]
  },
  {
   "cell_type": "markdown",
   "id": "c72cedfe",
   "metadata": {},
   "source": [
    "### Run an agent\n",
    "\n",
    "-note that here the agent is stateless (or no memory)"
   ]
  },
  {
   "cell_type": "code",
   "execution_count": 19,
   "id": "bd911043",
   "metadata": {},
   "outputs": [
    {
     "data": {
      "text/plain": [
       "'Albert Einstein was born on March 14, 1879, in Ulm, Württemberg, Germany.'"
      ]
     },
     "execution_count": 19,
     "metadata": {},
     "output_type": "execute_result"
    }
   ],
   "source": [
    "from langchain_core.messages import HumanMessage\n",
    "\n",
    "response = agent_executer.invoke({'messages': [HumanMessage(content='Where was Albert Einstein born?')]})\n",
    "response['messages'][-1].content"
   ]
  },
  {
   "cell_type": "markdown",
   "id": "aa0aef3f",
   "metadata": {},
   "source": [
    "__We can check out the LangSmith trace to make sure it's calling the search tool effectively.__\n",
    "\n",
    "https://smith.langchain.com/public/f520839d-cd4d-4495-8764-e32b548e235d/r"
   ]
  },
  {
   "cell_type": "code",
   "execution_count": null,
   "id": "d5c114d8",
   "metadata": {},
   "outputs": [],
   "source": []
  },
  {
   "cell_type": "markdown",
   "id": "374b7de0",
   "metadata": {},
   "source": [
    "## Adding memory\n",
    "\n",
    "In order to the agent to remember previous interactions, we need to add memory. To give it memory we need to pass in a checkpointer. "
   ]
  },
  {
   "cell_type": "code",
   "execution_count": 20,
   "id": "f8a90581",
   "metadata": {},
   "outputs": [],
   "source": [
    "from langgraph.checkpoint.memory import MemorySaver"
   ]
  },
  {
   "cell_type": "code",
   "execution_count": 21,
   "id": "2ae4783e",
   "metadata": {},
   "outputs": [],
   "source": [
    "memory = MemorySaver()"
   ]
  },
  {
   "cell_type": "markdown",
   "id": "28544dce",
   "metadata": {},
   "source": [
    "__For each conversion we should define a different `thread_id`__ "
   ]
  },
  {
   "cell_type": "code",
   "execution_count": 33,
   "id": "248b0ecc",
   "metadata": {},
   "outputs": [
    {
     "data": {
      "text/plain": [
       "'Hello Mohammad! How can I assist you today?'"
      ]
     },
     "execution_count": 33,
     "metadata": {},
     "output_type": "execute_result"
    }
   ],
   "source": [
    "agent_executor = create_react_agent(llm, tools, checkpointer=memory)\n",
    "config = {'configurable': {\"thread_id\": 'one'}}\n",
    "\n",
    "response = agent_executor.invoke(\n",
    "    {\n",
    "        'messages':[HumanMessage(content=\"Hi! My name is Mohammad!\")]\n",
    "    }, \n",
    "    config\n",
    ")\n",
    "response['messages'][-1].content"
   ]
  },
  {
   "cell_type": "code",
   "execution_count": 34,
   "id": "91a4d0c2",
   "metadata": {},
   "outputs": [
    {
     "data": {
      "text/plain": [
       "'Your name is Mohammad. How can I help you, Mohammad?'"
      ]
     },
     "execution_count": 34,
     "metadata": {},
     "output_type": "execute_result"
    }
   ],
   "source": [
    "response2 = agent_executor.invoke(\n",
    "    {\n",
    "        'messages': [HumanMessage(content='What is my name?')]\n",
    "    },\n",
    "    config\n",
    ")\n",
    "response2['messages'][-1].content"
   ]
  },
  {
   "cell_type": "markdown",
   "id": "095fd302",
   "metadata": {},
   "source": [
    "#### Streaming messages\n",
    "\n",
    "If the agent executes multiple steps, this may take a while. To show intermediate progress, we can stream back messages as they occur."
   ]
  },
  {
   "cell_type": "code",
   "execution_count": 42,
   "id": "1f11ecd8",
   "metadata": {},
   "outputs": [
    {
     "name": "stdout",
     "output_type": "stream",
     "text": [
      "{'agent': {'messages': [AIMessage(content='', additional_kwargs={'tool_calls': [{'id': 'call_0kWbvXDwlCIfADY3NL8rqc7M', 'function': {'arguments': '{\"query\":\"weather in San Francisco\"}', 'name': 'tavily_search_results_json'}, 'type': 'function'}], 'refusal': None}, response_metadata={'token_usage': {'completion_tokens': 21, 'prompt_tokens': 88, 'total_tokens': 109, 'completion_tokens_details': {'accepted_prediction_tokens': 0, 'audio_tokens': 0, 'reasoning_tokens': 0, 'rejected_prediction_tokens': 0}, 'prompt_tokens_details': {'audio_tokens': 0, 'cached_tokens': 0}}, 'model_name': 'gpt-3.5-turbo-0125', 'system_fingerprint': None, 'finish_reason': 'tool_calls', 'logprobs': None}, id='run-24ed2587-f68a-4b76-a0cb-f0957ff662d7-0', tool_calls=[{'name': 'tavily_search_results_json', 'args': {'query': 'weather in San Francisco'}, 'id': 'call_0kWbvXDwlCIfADY3NL8rqc7M', 'type': 'tool_call'}], usage_metadata={'input_tokens': 88, 'output_tokens': 21, 'total_tokens': 109, 'input_token_details': {'audio': 0, 'cache_read': 0}, 'output_token_details': {'audio': 0, 'reasoning': 0}})]}}\n",
      "...............\n",
      "{'tools': {'messages': [ToolMessage(content='[{\"url\": \"https://www.weatherapi.com/\", \"content\": \"{\\'location\\': {\\'name\\': \\'San Francisco\\', \\'region\\': \\'California\\', \\'country\\': \\'United States of America\\', \\'lat\\': 37.775, \\'lon\\': -122.4183, \\'tz_id\\': \\'America/Los_Angeles\\', \\'localtime_epoch\\': 1731701299, \\'localtime\\': \\'2024-11-15 12:08\\'}, \\'current\\': {\\'last_updated_epoch\\': 1731700800, \\'last_updated\\': \\'2024-11-15 12:00\\', \\'temp_c\\': 13.3, \\'temp_f\\': 55.9, \\'is_day\\': 1, \\'condition\\': {\\'text\\': \\'Partly cloudy\\', \\'icon\\': \\'//cdn.weatherapi.com/weather/64x64/day/116.png\\', \\'code\\': 1003}, \\'wind_mph\\': 5.4, \\'wind_kph\\': 8.6, \\'wind_degree\\': 328, \\'wind_dir\\': \\'NNW\\', \\'pressure_mb\\': 1016.0, \\'pressure_in\\': 30.0, \\'precip_mm\\': 0.0, \\'precip_in\\': 0.0, \\'humidity\\': 53, \\'cloud\\': 25, \\'feelslike_c\\': 12.8, \\'feelslike_f\\': 55.0, \\'windchill_c\\': 9.5, \\'windchill_f\\': 49.1, \\'heatindex_c\\': 11.0, \\'heatindex_f\\': 51.8, \\'dewpoint_c\\': 6.3, \\'dewpoint_f\\': 43.3, \\'vis_km\\': 16.0, \\'vis_miles\\': 9.0, \\'uv\\': 2.2, \\'gust_mph\\': 6.7, \\'gust_kph\\': 10.8}}\"}, {\"url\": \"https://forecast.weather.gov/MapClick.php?textField1=37.78&textField2=-122.42\", \"content\": \"Current conditions at SAN FRANCISCO DOWNTOWN (SFOC1) Lat: 37.77056°NLon: 122.42694°WElev: 150.0ft. NA. 52°F. 11°C. Humidity: 49%: ... 2024-6pm PST Nov 15, 2024 . ... Hourly Weather Forecast. National Digital Forecast Database. High Temperature. Chance of Precipitation. ACTIVE ALERTS Toggle menu. Warnings By State; Excessive Rainfall;\"}]', name='tavily_search_results_json', id='3ada6bb4-81c2-4ce2-a506-a5975153748c', tool_call_id='call_0kWbvXDwlCIfADY3NL8rqc7M', artifact={'query': 'weather in San Francisco', 'follow_up_questions': None, 'answer': None, 'images': [], 'results': [{'title': 'Weather in San Francisco', 'url': 'https://www.weatherapi.com/', 'content': \"{'location': {'name': 'San Francisco', 'region': 'California', 'country': 'United States of America', 'lat': 37.775, 'lon': -122.4183, 'tz_id': 'America/Los_Angeles', 'localtime_epoch': 1731701299, 'localtime': '2024-11-15 12:08'}, 'current': {'last_updated_epoch': 1731700800, 'last_updated': '2024-11-15 12:00', 'temp_c': 13.3, 'temp_f': 55.9, 'is_day': 1, 'condition': {'text': 'Partly cloudy', 'icon': '//cdn.weatherapi.com/weather/64x64/day/116.png', 'code': 1003}, 'wind_mph': 5.4, 'wind_kph': 8.6, 'wind_degree': 328, 'wind_dir': 'NNW', 'pressure_mb': 1016.0, 'pressure_in': 30.0, 'precip_mm': 0.0, 'precip_in': 0.0, 'humidity': 53, 'cloud': 25, 'feelslike_c': 12.8, 'feelslike_f': 55.0, 'windchill_c': 9.5, 'windchill_f': 49.1, 'heatindex_c': 11.0, 'heatindex_f': 51.8, 'dewpoint_c': 6.3, 'dewpoint_f': 43.3, 'vis_km': 16.0, 'vis_miles': 9.0, 'uv': 2.2, 'gust_mph': 6.7, 'gust_kph': 10.8}}\", 'score': 0.9998982, 'raw_content': None}, {'title': 'National Weather Service', 'url': 'https://forecast.weather.gov/MapClick.php?textField1=37.78&textField2=-122.42', 'content': 'Current conditions at SAN FRANCISCO DOWNTOWN (SFOC1) Lat: 37.77056°NLon: 122.42694°WElev: 150.0ft. NA. 52°F. 11°C. Humidity: 49%: ... 2024-6pm PST Nov 15, 2024 . ... Hourly Weather Forecast. National Digital Forecast Database. High Temperature. Chance of Precipitation. ACTIVE ALERTS Toggle menu. Warnings By State; Excessive Rainfall;', 'score': 0.9989956, 'raw_content': None}], 'response_time': 3.05})]}}\n",
      "...............\n",
      "{'agent': {'messages': [AIMessage(content='The current weather in San Francisco is 55.9°F (13.3°C) with partly cloudy conditions. The wind speed is 5.4 mph from the NNW direction. The humidity is at 53%, and the visibility is 9.0 miles.', additional_kwargs={'refusal': None}, response_metadata={'token_usage': {'completion_tokens': 56, 'prompt_tokens': 677, 'total_tokens': 733, 'completion_tokens_details': {'accepted_prediction_tokens': 0, 'audio_tokens': 0, 'reasoning_tokens': 0, 'rejected_prediction_tokens': 0}, 'prompt_tokens_details': {'audio_tokens': 0, 'cached_tokens': 0}}, 'model_name': 'gpt-3.5-turbo-0125', 'system_fingerprint': None, 'finish_reason': 'stop', 'logprobs': None}, id='run-af36491a-2845-4b66-98ed-3ca5364b907f-0', usage_metadata={'input_tokens': 677, 'output_tokens': 56, 'total_tokens': 733, 'input_token_details': {'audio': 0, 'cache_read': 0}, 'output_token_details': {'audio': 0, 'reasoning': 0}})]}}\n",
      "...............\n"
     ]
    }
   ],
   "source": [
    "for chunk in agent_executer.stream(\n",
    "    {\n",
    "        'messages':[HumanMessage(content=\"whats the weather in sf?\")]\n",
    "    }, \n",
    "    config\n",
    "):\n",
    "    print(chunk)\n",
    "    print(\"...............\")"
   ]
  },
  {
   "cell_type": "code",
   "execution_count": null,
   "id": "347a70ad",
   "metadata": {},
   "outputs": [],
   "source": []
  }
 ],
 "metadata": {
  "kernelspec": {
   "display_name": "llms",
   "language": "python",
   "name": "llms"
  },
  "language_info": {
   "codemirror_mode": {
    "name": "ipython",
    "version": 3
   },
   "file_extension": ".py",
   "mimetype": "text/x-python",
   "name": "python",
   "nbconvert_exporter": "python",
   "pygments_lexer": "ipython3",
   "version": "3.9.12"
  }
 },
 "nbformat": 4,
 "nbformat_minor": 5
}
