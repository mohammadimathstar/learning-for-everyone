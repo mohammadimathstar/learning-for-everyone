{
 "cells": [
  {
   "cell_type": "code",
   "execution_count": null,
   "id": "63875d28-9397-4cbe-8a4f-a765bf490546",
   "metadata": {},
   "outputs": [],
   "source": []
  },
  {
   "cell_type": "code",
   "execution_count": 1,
   "id": "f7814660-4944-4903-9381-6292f86eac87",
   "metadata": {},
   "outputs": [
    {
     "data": {
      "text/plain": [
       "True"
      ]
     },
     "execution_count": 1,
     "metadata": {},
     "output_type": "execute_result"
    }
   ],
   "source": [
    "import os\n",
    "from dotenv import load_dotenv\n",
    "\n",
    "load_dotenv()"
   ]
  },
  {
   "cell_type": "markdown",
   "id": "c4bdc89a-6462-4b81-a496-6dcad7bc818f",
   "metadata": {},
   "source": [
    "### Chat Model\n",
    "\n",
    "Here, we use OpenAI chat models. First, you need to have the api key `OPENAI_API_KEY`.\n",
    "\n",
    "There are [many](https://python.langchain.com/v0.2/docs/concepts/#chat-models) model. Two most commonly used are:\n",
    "* `gpt-3.5-turbo-0125` - low price\n",
    "* `gpt-4o` -  it's a good balance of quality, price, and speed\n",
    "\n",
    "There are [a few standard parameters](https://python.langchain.com/v0.2/docs/concepts/#chat-models) that we can set with chat models. Two of the most common are:\n",
    "\n",
    "* `model`: the name of the model\n",
    "* `temperature`: the sampling temperature\n",
    "\n",
    "`Temperature` controls the randomness or creativity of the model's output where low temperature (close to 0) is more deterministic and focused outputs. This is good for tasks requiring accuracy or factual responses. High temperature (close to 1) is good for creative tasks or generating varied responses."
   ]
  },
  {
   "cell_type": "code",
   "execution_count": 2,
   "id": "24a6148a-bea7-4acc-aa2f-17e77fdd2c3b",
   "metadata": {},
   "outputs": [],
   "source": [
    "from langchain_openai import ChatOpenAI"
   ]
  },
  {
   "cell_type": "code",
   "execution_count": 4,
   "id": "0c7e69b5-ef5f-46a1-8b7f-d15e5f3127ac",
   "metadata": {},
   "outputs": [
    {
     "data": {
      "text/plain": [
       "AIMessage(content='Hello! How can I assist you today?', additional_kwargs={'refusal': None}, response_metadata={'token_usage': {'completion_tokens': 9, 'prompt_tokens': 9, 'total_tokens': 18, 'completion_tokens_details': {'accepted_prediction_tokens': 0, 'audio_tokens': 0, 'reasoning_tokens': 0, 'rejected_prediction_tokens': 0}, 'prompt_tokens_details': {'audio_tokens': 0, 'cached_tokens': 0}}, 'model_name': 'gpt-3.5-turbo-0125', 'system_fingerprint': None, 'finish_reason': 'stop', 'logprobs': None}, id='run-70f7213a-aa2b-4a1f-ae4c-d972a822d1f0-0', usage_metadata={'input_tokens': 9, 'output_tokens': 9, 'total_tokens': 18, 'input_token_details': {'audio': 0, 'cache_read': 0}, 'output_token_details': {'audio': 0, 'reasoning': 0}})"
      ]
     },
     "execution_count": 4,
     "metadata": {},
     "output_type": "execute_result"
    }
   ],
   "source": [
    "llm = ChatOpenAI(model='gpt-3.5-turbo-0125', temperature=0)\n",
    "\n",
    "# First example: to communicate with the LLM, we use 'invoke' method\n",
    "result = llm.invoke(\"Hi!\")\n",
    "result"
   ]
  },
  {
   "cell_type": "code",
   "execution_count": 5,
   "id": "72d6f97a-d454-4071-810d-42a91893f07f",
   "metadata": {},
   "outputs": [
    {
     "data": {
      "text/plain": [
       "'Hello! How can I assist you today?'"
      ]
     },
     "execution_count": 5,
     "metadata": {},
     "output_type": "execute_result"
    }
   ],
   "source": [
    "# to see the LLM's answer\n",
    "result.content"
   ]
  },
  {
   "cell_type": "code",
   "execution_count": null,
   "id": "70794780-039a-4a9c-81de-d3dc2817fefb",
   "metadata": {},
   "outputs": [],
   "source": []
  },
  {
   "cell_type": "markdown",
   "id": "e4c7bc10-f697-439f-add4-e181b263a419",
   "metadata": {},
   "source": [
    "### Messages\n",
    "\n",
    "Instead of a single text/message, we can use a sequence of messages controlling the behavior of the LLM. There are different types of messages\n",
    "* SystemMessage: `SystemMessage` for priming AI behavior. It is usually passed in as the first of a sequence of input messages.\n",
    "* AIMessage: Message from an AI. `AIMessage` is returned from a chat model as a response to a prompt.\n",
    "* HumanMessage: Message from a human. They are messages that are passed in from a human to the model.\n",
    "\n",
    "They have a `content` attribute containing a string."
   ]
  },
  {
   "cell_type": "code",
   "execution_count": 6,
   "id": "993cf4e2-2e48-4088-bc1f-b9904deda21c",
   "metadata": {},
   "outputs": [],
   "source": [
    "from langchain_core.messages import AIMessage, HumanMessage, SystemMessage"
   ]
  },
  {
   "cell_type": "code",
   "execution_count": 8,
   "id": "903673bc-f699-4d90-8657-d5aa53dae282",
   "metadata": {},
   "outputs": [
    {
     "data": {
      "text/plain": [
       "'Hallo!'"
      ]
     },
     "execution_count": 8,
     "metadata": {},
     "output_type": "execute_result"
    }
   ],
   "source": [
    "# Usage of LLM as a translator\n",
    "messages = [\n",
    "    SystemMessage(content='As a translator, you should translate the following messages into Dutch.'),\n",
    "    HumanMessage(content='Hello!'),\n",
    "]\n",
    "result = llm.invoke(messages)\n",
    "result.content"
   ]
  },
  {
   "cell_type": "code",
   "execution_count": 9,
   "id": "c316eff4-9547-4e17-82ef-cb0adae78b95",
   "metadata": {},
   "outputs": [
    {
     "data": {
      "text/plain": [
       "\"I'm sorry to hear that your new headphone is not working. Have you tried troubleshooting the issue or would you like assistance with returning or exchanging it?\""
      ]
     },
     "execution_count": 9,
     "metadata": {},
     "output_type": "execute_result"
    }
   ],
   "source": [
    "# Usage of LLM in a customer service department\n",
    "messages = [\n",
    "    SystemMessage(content='As an assistant for a customer service, you should answer the customers in a respectful manner.'),\n",
    "    HumanMessage(content='Hello!'),\n",
    "    AIMessage(content='Hello. How can I help you?'),\n",
    "    HumanMessage(content='Last week, I bought a new headphone. But it does not work anymore'),\n",
    "]\n",
    "\n",
    "result = llm.invoke(messages)\n",
    "result.content"
   ]
  },
  {
   "cell_type": "code",
   "execution_count": null,
   "id": "a615e2c5-ca27-4493-a3d2-7f162070a982",
   "metadata": {},
   "outputs": [],
   "source": []
  },
  {
   "cell_type": "markdown",
   "id": "a4088c95-e8ea-4833-93b6-f03e42007b95",
   "metadata": {},
   "source": [
    "### Conversation with LLMs\n",
    "\n",
    "Here, we create a system for conversation while the system has a memory (i.e. it has the access to previous messages)"
   ]
  },
  {
   "cell_type": "code",
   "execution_count": 11,
   "id": "95bdcf1c-f4d9-4c17-be8d-3c797b29936e",
   "metadata": {},
   "outputs": [
    {
     "name": "stdin",
     "output_type": "stream",
     "text": [
      "You:  hi\n"
     ]
    },
    {
     "name": "stdout",
     "output_type": "stream",
     "text": [
      "AI: Hello! How can I assist you today?\n"
     ]
    },
    {
     "name": "stdin",
     "output_type": "stream",
     "text": [
      "You:  what do you know about netherlands?\n"
     ]
    },
    {
     "name": "stdout",
     "output_type": "stream",
     "text": [
      "AI: The Netherlands is a country located in Northwestern Europe known for its flat landscape, picturesque canals, tulip fields, windmills, and cycling routes. The capital city is Amsterdam, which is famous for its historic architecture, museums like the Van Gogh Museum and Anne Frank House, and vibrant nightlife. The Netherlands is also known for its progressive social policies, including legalized prostitution and marijuana in designated areas. The Dutch are known for their tolerance, openness, and proficiency in English. The country is also a major global exporter of agricultural products, flowers, and technology.\n"
     ]
    },
    {
     "name": "stdin",
     "output_type": "stream",
     "text": [
      "You:  exit\n"
     ]
    },
    {
     "name": "stdout",
     "output_type": "stream",
     "text": [
      "\n",
      "-------- Message history ---------\n",
      "[SystemMessage(content='You are a helpful assistant who answer the questions.', additional_kwargs={}, response_metadata={}), HumanMessage(content='hi', additional_kwargs={}, response_metadata={}), AIMessage(content='Hello! How can I assist you today?', additional_kwargs={}, response_metadata={}), HumanMessage(content='what do you know about netherlands?', additional_kwargs={}, response_metadata={}), AIMessage(content='The Netherlands is a country located in Northwestern Europe known for its flat landscape, picturesque canals, tulip fields, windmills, and cycling routes. The capital city is Amsterdam, which is famous for its historic architecture, museums like the Van Gogh Museum and Anne Frank House, and vibrant nightlife. The Netherlands is also known for its progressive social policies, including legalized prostitution and marijuana in designated areas. The Dutch are known for their tolerance, openness, and proficiency in English. The country is also a major global exporter of agricultural products, flowers, and technology.', additional_kwargs={}, response_metadata={})]\n"
     ]
    }
   ],
   "source": [
    "# it saves the conversation\n",
    "history_messages = [\n",
    "    SystemMessage(content='You are a helpful assistant who answer the questions.')\n",
    "]\n",
    "\n",
    "while True:    \n",
    "    query = input(\"You: \")\n",
    "    if query.lower() == 'exit':\n",
    "        break\n",
    "        \n",
    "    history_messages.append(HumanMessage(content=query))\n",
    "    result = llm.invoke(history_messages)\n",
    "    response = result.content \n",
    "    print(f\"AI: {response}\")\n",
    "    \n",
    "    history_messages.append(AIMessage(content=response))\n",
    "\n",
    "print(\"\\n-------- Message history ---------\")\n",
    "print(history_messages)"
   ]
  },
  {
   "cell_type": "code",
   "execution_count": null,
   "id": "e6fa5771-e9f2-40f5-bed4-9a9381d3ae22",
   "metadata": {},
   "outputs": [],
   "source": []
  },
  {
   "cell_type": "code",
   "execution_count": null,
   "id": "4ecc6ccd-194d-4622-aea5-d36c513ac454",
   "metadata": {},
   "outputs": [],
   "source": []
  },
  {
   "cell_type": "code",
   "execution_count": null,
   "id": "d1361a2d-ad5b-4ed7-beea-3c353f6a8658",
   "metadata": {},
   "outputs": [],
   "source": []
  },
  {
   "cell_type": "code",
   "execution_count": null,
   "id": "481de661-012e-4a2a-a548-4ee8dfd937d2",
   "metadata": {},
   "outputs": [],
   "source": []
  },
  {
   "cell_type": "code",
   "execution_count": null,
   "id": "a385377c-f54e-4172-81ce-0274d155a111",
   "metadata": {},
   "outputs": [],
   "source": []
  }
 ],
 "metadata": {
  "kernelspec": {
   "display_name": "llm-langchain",
   "language": "python",
   "name": "llm-langchain"
  },
  "language_info": {
   "codemirror_mode": {
    "name": "ipython",
    "version": 3
   },
   "file_extension": ".py",
   "mimetype": "text/x-python",
   "name": "python",
   "nbconvert_exporter": "python",
   "pygments_lexer": "ipython3",
   "version": "3.12.7"
  }
 },
 "nbformat": 4,
 "nbformat_minor": 5
}
