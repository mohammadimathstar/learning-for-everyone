{
 "cells": [
  {
   "cell_type": "code",
   "execution_count": null,
   "id": "205df56f-8528-4590-9267-828d3810d28a",
   "metadata": {},
   "outputs": [],
   "source": []
  },
  {
   "cell_type": "code",
   "execution_count": 1,
   "id": "3c5317c6-5f0b-4193-922f-7a5864f488a3",
   "metadata": {},
   "outputs": [
    {
     "data": {
      "text/plain": [
       "True"
      ]
     },
     "execution_count": 1,
     "metadata": {},
     "output_type": "execute_result"
    }
   ],
   "source": [
    "import os\n",
    "from dotenv import load_dotenv\n",
    "load_dotenv()"
   ]
  },
  {
   "cell_type": "markdown",
   "id": "8e1f2ca6-46e4-4adc-a299-b7ea00ec0539",
   "metadata": {},
   "source": [
    "## Prompt Templates\n",
    "\n",
    "Prompt templates help to translate user input and parameters into instructions for a language model. This can be used to guide a model's response, helping it understand the context and generate relevant and coherent language-based output.\n",
    "\n",
    "* Prompt Templates take as input a dictionary, where each key represents a variable in the prompt template to fill in.\n",
    "* Prompt Templates output a PromptValue. This PromptValue can be passed to an LLM or a ChatModel, and can also be cast to a string or a list of messages."
   ]
  },
  {
   "cell_type": "code",
   "execution_count": 4,
   "id": "6d41a059-52de-4e7c-8446-a6f080a792e1",
   "metadata": {},
   "outputs": [],
   "source": [
    "from langchain_core.prompts import PromptTemplate"
   ]
  },
  {
   "cell_type": "code",
   "execution_count": 6,
   "id": "bfaeb9c0-7649-46a6-a13f-c14c4a08d971",
   "metadata": {},
   "outputs": [
    {
     "data": {
      "text/plain": [
       "StringPromptValue(text='Please translate from English to Dutch')"
      ]
     },
     "execution_count": 6,
     "metadata": {},
     "output_type": "execute_result"
    }
   ],
   "source": [
    "prompt_template = \"Please translate from English to {lang}\"\n",
    "\n",
    "prompt = PromptTemplate.from_template(prompt_template)\n",
    "prompt.invoke({'lang': 'Dutch'})"
   ]
  },
  {
   "cell_type": "markdown",
   "id": "55e2ef32-3fd6-4e4c-9b9e-9b9632fc1d8b",
   "metadata": {},
   "source": [
    "### Chat Prompt Template\n",
    "\n",
    "To create a list of prompt templates for a chat model, we can use `ChatPromptTemplate`."
   ]
  },
  {
   "cell_type": "code",
   "execution_count": 7,
   "id": "18b5683a-286f-42aa-8bc4-bfa7d64e9c97",
   "metadata": {},
   "outputs": [],
   "source": [
    "from langchain_core.prompts import ChatPromptTemplate"
   ]
  },
  {
   "cell_type": "code",
   "execution_count": 13,
   "id": "0f8b6286-acde-4bd9-ab8f-5f3915919906",
   "metadata": {},
   "outputs": [
    {
     "data": {
      "text/plain": [
       "ChatPromptValue(messages=[SystemMessage(content='you are a helpful assistant for customer service.', additional_kwargs={}, response_metadata={}), HumanMessage(content='tell me about new products', additional_kwargs={}, response_metadata={})])"
      ]
     },
     "execution_count": 13,
     "metadata": {},
     "output_type": "execute_result"
    }
   ],
   "source": [
    "prompt = ChatPromptTemplate(\n",
    "    [\n",
    "        ('system', 'you are a helpful assistant for {role}.'),\n",
    "        ('user', 'tell me about {topic}'),\n",
    "    ]\n",
    ")\n",
    "prompt.invoke({\"role\": \"customer service\", \"topic\": \"new products\"})"
   ]
  },
  {
   "cell_type": "markdown",
   "id": "ee6f14d6-b6cb-4abf-9cc8-15600422de3f",
   "metadata": {},
   "source": [
    "#### MessagePlaceholder\n",
    "\n",
    "In the above ChatPromptTemplate, we saw how we could format two messages, each one a string. But what if we wanted the user to pass in a list of messages that we would slot into a particular spot? This is how you use `MessagesPlaceholder`.\n",
    "\n",
    "* `MessagesPlaceholder` is responsible for adding a list of messages in a particular place."
   ]
  },
  {
   "cell_type": "code",
   "execution_count": 16,
   "id": "d1f29b4a-9e95-4aee-b7c8-5e3cc2d1203c",
   "metadata": {},
   "outputs": [
    {
     "data": {
      "text/plain": [
       "ChatPromptValue(messages=[SystemMessage(content='You are a helpful assistant', additional_kwargs={}, response_metadata={}), HumanMessage(content='hi!', additional_kwargs={}, response_metadata={}), AIMessage(content='hello. How are you?', additional_kwargs={}, response_metadata={}), HumanMessage(content='tell me something about the weather.', additional_kwargs={}, response_metadata={})])"
      ]
     },
     "execution_count": 16,
     "metadata": {},
     "output_type": "execute_result"
    }
   ],
   "source": [
    "from langchain_core.prompts import ChatPromptTemplate, MessagesPlaceholder\n",
    "from langchain_core.messages import HumanMessage, AIMessage\n",
    "\n",
    "prompt_template = ChatPromptTemplate([\n",
    "    (\"system\", \"You are a helpful assistant\"),\n",
    "    MessagesPlaceholder(\"msgs\")\n",
    "])\n",
    "\n",
    "prompt = prompt_template.invoke(\n",
    "    {\n",
    "        \"msgs\": [\n",
    "            HumanMessage(content=\"hi!\"), \n",
    "            AIMessage(content='hello. How are you?'),\n",
    "            HumanMessage(content='tell me something about the weather.')\n",
    "        ]\n",
    "    }\n",
    ")\n",
    "prompt"
   ]
  },
  {
   "cell_type": "code",
   "execution_count": null,
   "id": "6c74bba6-aae3-435b-aa60-bf84c16fdc8f",
   "metadata": {},
   "outputs": [],
   "source": []
  },
  {
   "cell_type": "code",
   "execution_count": 18,
   "id": "597c3441-a6d6-4866-9bf4-8eba8d3948e9",
   "metadata": {},
   "outputs": [],
   "source": [
    "from langchain_openai import ChatOpenAI"
   ]
  },
  {
   "cell_type": "code",
   "execution_count": 19,
   "id": "b61b4a7d-0acb-4821-818d-e554a045e47e",
   "metadata": {},
   "outputs": [
    {
     "data": {
      "text/plain": [
       "AIMessage(content='Sure! What location are you interested in knowing the weather for?', additional_kwargs={'refusal': None}, response_metadata={'token_usage': {'completion_tokens': 13, 'prompt_tokens': 39, 'total_tokens': 52, 'completion_tokens_details': {'accepted_prediction_tokens': 0, 'audio_tokens': 0, 'reasoning_tokens': 0, 'rejected_prediction_tokens': 0}, 'prompt_tokens_details': {'audio_tokens': 0, 'cached_tokens': 0}}, 'model_name': 'gpt-3.5-turbo-0125', 'system_fingerprint': None, 'finish_reason': 'stop', 'logprobs': None}, id='run-4b818a4d-bfbf-495b-ad13-2e437e4d6ba5-0', usage_metadata={'input_tokens': 39, 'output_tokens': 13, 'total_tokens': 52, 'input_token_details': {'audio': 0, 'cache_read': 0}, 'output_token_details': {'audio': 0, 'reasoning': 0}})"
      ]
     },
     "execution_count": 19,
     "metadata": {},
     "output_type": "execute_result"
    }
   ],
   "source": [
    "llm = ChatOpenAI(model='gpt-3.5-turbo-0125', temperature=0)\n",
    "\n",
    "# First example: to communicate with the LLM, we use 'invoke' method\n",
    "result = llm.invoke(prompt)\n",
    "result"
   ]
  },
  {
   "cell_type": "code",
   "execution_count": 20,
   "id": "2760b8f4-ee26-4e4c-b8ec-67e296cfbd9c",
   "metadata": {},
   "outputs": [
    {
     "data": {
      "text/plain": [
       "'Sure! What location are you interested in knowing the weather for?'"
      ]
     },
     "execution_count": 20,
     "metadata": {},
     "output_type": "execute_result"
    }
   ],
   "source": [
    "result.content"
   ]
  },
  {
   "cell_type": "code",
   "execution_count": null,
   "id": "27f5971d-7270-46f6-a26c-fe17eaf32483",
   "metadata": {},
   "outputs": [],
   "source": []
  }
 ],
 "metadata": {
  "kernelspec": {
   "display_name": "llm-langchain",
   "language": "python",
   "name": "llm-langchain"
  },
  "language_info": {
   "codemirror_mode": {
    "name": "ipython",
    "version": 3
   },
   "file_extension": ".py",
   "mimetype": "text/x-python",
   "name": "python",
   "nbconvert_exporter": "python",
   "pygments_lexer": "ipython3",
   "version": "3.12.7"
  }
 },
 "nbformat": 4,
 "nbformat_minor": 5
}
