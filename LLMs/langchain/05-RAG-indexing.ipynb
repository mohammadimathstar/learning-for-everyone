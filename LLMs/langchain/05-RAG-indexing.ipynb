{
 "cells": [
  {
   "cell_type": "code",
   "execution_count": 1,
   "id": "7e5f48d2-8b38-4a91-a651-3e5351d7bcd8",
   "metadata": {},
   "outputs": [
    {
     "data": {
      "text/plain": [
       "True"
      ]
     },
     "execution_count": 1,
     "metadata": {},
     "output_type": "execute_result"
    }
   ],
   "source": [
    "import os\n",
    "from dotenv import load_dotenv\n",
    "\n",
    "load_dotenv()"
   ]
  },
  {
   "cell_type": "markdown",
   "id": "e1f14632-8ca7-46ac-a932-a22fc466fdf8",
   "metadata": {},
   "source": [
    "## Retrieval Augmented Generation (RAG)\n",
    "\n",
    "As you know, LLMs are models that have been trained on large amount of data. While they can generate human-like contents, there is no gaurantee that their answers to be trustworthy. Let's consider that we would like to use LLMs to create a chatbot answering the questions of customers of a particular company. Since LLMs do not know anything about this company and its products (during training), they fail to provide appropritate answers to the customers. In order to address this issue, one may consider to fine-tune LLMs for this application. However, here we face two challenges: a) the need for large amount of data (from the company), b) the need for large computational resources (required for training LLMs). \n",
    "\n",
    "Fortunately, there is a better solution that does not have these issues. One can help LLMs to provide appropriate answers (to the customers' questions) by providing contexts to the LLM. For instance, if a customer ask about a particular product, we can help the LLM by giving the model the information about this product. This is called `Retrieval Augmented Generation` (RAG) which means: \n",
    "* helping the LLM, by retrieving the relevant information from a database.\n",
    "\n",
    "A typical RAG consists of two component:\n",
    "* indexing: creation of a database containing the company data (in numerical format), \n",
    "* retrieval and generation: given a query (from a customer), retrieve the most relevant data (from the database) and generate the answer (based on the relevant data).\n",
    "\n",
    "In this tutorial, we focus on the first component and the second one will be presented in the next tutorial."
   ]
  },
  {
   "cell_type": "markdown",
   "id": "e72076ac-e942-4ddc-84e2-626978626116",
   "metadata": {},
   "source": [
    "### Indexing\n",
    "\n",
    "Let's consider we have a set of document (from the company) containing useful information for answering questions. Here, our goal is to create a pipeline that\n",
    "* ingesting data from a source and indexing it.\n",
    "\n",
    "In order to do that, we follow a three-step process.\n",
    "1) Load: first we should load the data using [Document Loader](https://python.langchain.com/docs/concepts/document_loaders/).\n",
    "2) Split: then we use [Text Splitter](https://python.langchain.com/docs/concepts/text_splitters/) to split texts into smaller chunks. The main reason is that not all text (of a document) is relevant to a particular question. Thus, by splitting the text into smaller chunks, we can retrieve only the relevant part.\n",
    "3) Embedding and Storage: in this step, we convert each chunk into numerical/vectorial representation and then store it. This is done by using [Embedding models](https://python.langchain.com/docs/concepts/embedding_models/) and [Vector Store](https://python.langchain.com/docs/concepts/vectorstores/)."
   ]
  },
  {
   "cell_type": "markdown",
   "id": "4e0df7c7-50e3-4bc6-a50b-0c404a9df857",
   "metadata": {},
   "source": []
  },
  {
   "cell_type": "code",
   "execution_count": 6,
   "id": "8b5d6731-0cd5-443c-8518-2ad11587b7da",
   "metadata": {},
   "outputs": [],
   "source": [
    "from langchain import hub # to download prompt\n",
    "\n",
    "# from langchain_community.document_loaders import WebBaseLoader # to load a webpage\n",
    "from langchain_community.document_loaders import PyPDFLoader # to load a pdf\n",
    "\n",
    "from langchain.text_splitter import RecursiveCharacterTextSplitter # to split a text"
   ]
  },
  {
   "cell_type": "code",
   "execution_count": 38,
   "id": "e32f94b0-c30a-4467-9f3c-ae0092f2a663",
   "metadata": {},
   "outputs": [],
   "source": [
    "# create loader objects for each pdf file\n",
    "data_folder = './data'\n",
    "loader = PyPDFLoader('data/caselaw_1.pdf')"
   ]
  },
  {
   "cell_type": "code",
   "execution_count": 39,
   "id": "4c8a7350-f9eb-4309-90f9-9aea542b8470",
   "metadata": {},
   "outputs": [],
   "source": [
    "# create text splitter objects\n",
    "text_splitter = RecursiveCharacterTextSplitter(\n",
    "    chunk_size=1000, # number of characters per chunk\n",
    "    chunk_overlap=50, # number of characters overlap between two adjacent chunks\n",
    ")"
   ]
  },
  {
   "cell_type": "code",
   "execution_count": 42,
   "id": "af85c039-ce32-4872-8b39-fdb590feb3eb",
   "metadata": {},
   "outputs": [
    {
     "name": "stdout",
     "output_type": "stream",
     "text": [
      "There are 15 chunks.\n"
     ]
    }
   ],
   "source": [
    "# load documents and then split them into smaller chunks\n",
    "docs = loader.load_and_split(text_splitter)\n",
    "print(f\"There are {len(docs)} chunks.\")"
   ]
  },
  {
   "cell_type": "code",
   "execution_count": null,
   "id": "b5be54c3-e39e-4275-aa31-10adf7f5ea6a",
   "metadata": {},
   "outputs": [],
   "source": []
  },
  {
   "cell_type": "markdown",
   "id": "eaf17ad9-ef83-483b-856f-d120d1940c81",
   "metadata": {},
   "source": [
    "##### Vector stores\n",
    "\n",
    "We create a vector stores which contains the vector embedding for each chunk. Here, we have two options for vector stores:\n",
    "* Chroma: it runs on your local machine as a library.\n",
    "* other tools (such as Pinecone) which provide broad functionality to store and search over vectors\n",
    "\n",
    "Thus, you can run either of the following two cell"
   ]
  },
  {
   "cell_type": "code",
   "execution_count": 49,
   "id": "c3b60fdb-a279-494d-8d4f-971d34319e97",
   "metadata": {},
   "outputs": [],
   "source": [
    "# Option 1: Chroma\n",
    "from langchain_openai.embeddings import OpenAIEmbeddings\n",
    "from langchain_chroma import Chroma\n",
    "\n",
    "# the embedding model: it convert the chunks into vectors\n",
    "embedding = OpenAIEmbeddings(\n",
    "    model=\"text-embedding-ada-002\"\n",
    ")\n",
    "\n",
    "db = Chroma.from_documents(\n",
    "    docs,\n",
    "    embedding=embedding,\n",
    "    persist_directory=\"./data/chroma_langchain_db\",  # Where to save data locally.\n",
    ")"
   ]
  },
  {
   "cell_type": "code",
   "execution_count": null,
   "id": "fdef76a4-4f84-4d69-a8d3-396c67ebdadb",
   "metadata": {},
   "outputs": [],
   "source": [
    "# Option 2: Pinecone\n",
    "# !pip install langchain_pinecone\n",
    "# from langchain_openai.embeddings import OpenAIEmbeddings\n",
    "# from langchain_pinecone import PineconeVectorStore\n",
    "\n",
    "# embedding = OpenAIEmbeddings(\n",
    "#     model=\"text-embedding-ada-002\"\n",
    "# )\n",
    "# db = PineconeVectorStore.from_documents(\n",
    "#     documents,\n",
    "#     embedding=embedding,\n",
    "#     index_name = \"langchain-rag-index\",\n",
    "# )"
   ]
  },
  {
   "cell_type": "code",
   "execution_count": 78,
   "id": "41f07302-6354-40e3-b338-79c3a4e882be",
   "metadata": {},
   "outputs": [
    {
     "data": {
      "text/plain": [
       "'Judge Ch., sitting in a single-judge formation, \\nbegan the examination of the criminal case.\\n6.  On 30 September 2015 Judge Ch. held a final hearing. He retired to the \\ndeliberation room, but did not return to the hearing room to deliver a verdict.\\n7.  The Government submitted a copy of a note signed by P., merely \\nconfirming that on 30 September 2015 he had received a copy of a verdict in \\na criminal case without any further detail.\\n8.  According to the applicant, he had had a conversation after the hearing \\nwith Judge Ch., who had informed him that the verdict would be ready in two \\nor three weeks. However, the applicant had not received a copy of the verdict, \\nnor did the case file contain one.\\n9.  On 16 February 2016 Judge Ch. was dismissed by a presidential order.\\n10.  According to letters from the then acting President of the \\nBabushkinskyi District Court of Dnipropetrovsk of 10 November 2016 and'"
      ]
     },
     "execution_count": 78,
     "metadata": {},
     "output_type": "execute_result"
    }
   ],
   "source": [
    "# to test if vectors capture the semantic of text\n",
    "res = db.similarity_search(\"Who are judges?\")\n",
    "res[0].page_content[50:]"
   ]
  },
  {
   "cell_type": "markdown",
   "id": "179b4e38-9b64-4c67-8e4e-48e7b15803b1",
   "metadata": {},
   "source": [
    "##### To load a vector store in chroma"
   ]
  },
  {
   "cell_type": "code",
   "execution_count": 70,
   "id": "83930c57-a23e-4263-93c0-4c89a12f1ba1",
   "metadata": {},
   "outputs": [],
   "source": [
    "vector_store = None\n",
    "vector_store = Chroma(\n",
    "    embedding_function=embedding,\n",
    "    persist_directory=\"./data/chroma_langchain_db\",  # Where to save data locally, remove if not necessary\n",
    ")"
   ]
  },
  {
   "cell_type": "code",
   "execution_count": null,
   "id": "5d0b0f16-e19b-4c29-a4ac-07543ff7b910",
   "metadata": {},
   "outputs": [],
   "source": [
    "vector_store.get()"
   ]
  },
  {
   "cell_type": "code",
   "execution_count": 76,
   "id": "b8ee7ae8-a86d-4321-8d4a-e74647666892",
   "metadata": {},
   "outputs": [],
   "source": [
    "vector_store.similarity_search(\"Who are judges\")"
   ]
  },
  {
   "cell_type": "code",
   "execution_count": null,
   "id": "0d36cabe-d276-4b60-afbd-f869a1e44435",
   "metadata": {},
   "outputs": [],
   "source": []
  },
  {
   "cell_type": "code",
   "execution_count": 59,
   "id": "ca01ca0e-cd85-4aa9-a573-8e891e051914",
   "metadata": {},
   "outputs": [
    {
     "data": {
      "text/plain": [
       "{'ids': ['005c0e60-10a1-477e-be87-681492464747',\n",
       "  'c112a22f-ecd2-43c8-b2c5-7729ebe6d1c6',\n",
       "  '5cc424d6-6ead-41b9-927d-87c144103f7a',\n",
       "  '734abcfe-049d-4215-83c9-1776cca20862',\n",
       "  '971b3c28-4146-4d38-96c7-8f42f5cf9281',\n",
       "  'd77b292a-5f72-40cc-9993-a6067fa4314b',\n",
       "  'ba3d74ad-1c64-45f5-b3b7-71c717f98cae',\n",
       "  '73406c37-3dc6-49fc-a004-be17cb9a61cd',\n",
       "  'a677b2b6-5b69-454e-874a-5200237124c5',\n",
       "  '868aec41-6947-4c75-a427-880a5351ea17',\n",
       "  'b421e35f-9693-48d9-a9fd-a99ed0e913bc',\n",
       "  'de6101ad-cd1d-487c-b432-edcc8d062463',\n",
       "  '90257941-fba5-44b9-814f-296a2ad5ed33',\n",
       "  '3b1ab197-95c6-4d87-8e99-6b762b2c5ceb',\n",
       "  'd6331fb7-781e-46e6-81bf-57e3619e9d2d'],\n",
       " 'embeddings': None,\n",
       " 'documents': ['FIFTH SECTION\\nCASE OF ORLOV v. UKRAINE\\n(Application no. 10993/18)\\nJUDGMENT\\nSTRASBOURG\\n21 November 2024\\nThis judgment is final but it may be subject to editorial revision.',\n",
       "  'ORLOV v. UKRAINE JUDGMENT\\n1\\nIn the case of Orlov v. Ukraine,\\nThe European Court of Human Rights (Fifth Section), sitting as a \\nCommittee composed of:\\nLado Chanturia, President,\\nMykola Gnatovskyy,\\nÚna Ní Raifeartaigh, judges,\\nand Martina Keller, Deputy Section Registrar,\\nHaving regard to:\\nthe application (no. 10993/18) against Ukraine lodged with the Court \\nunder Article 34 of the Convention for the Protection of Human Rights and \\nFundamental Freedoms (“the Convention”) on 24 February 2018 by a \\nUkrainian national, Mr Andriy Vasylyovych Orlov (“the applicant”), who \\nwas born in 1969 and lives in Paris;\\nthe decision to give notice of the complaint concerning an allegedly \\nineffective investigation into the applicant’s ill-treatment to the Ukrainian \\nGovernment (“the Government”), represented by their Agent, Ms Marharyta \\nSokorenko, and to declare the remainder of the application inadmissible;\\nthe parties’ observations;\\nHaving deliberated in private on 24 October 2024,',\n",
       "  'Having deliberated in private on 24 October 2024,\\nDelivers the following judgment, which was adopted on that date:\\nSUBJECT MATTER OF THE CASE\\n1.  The application concerns the lack of an effective investigation into the \\napplicant’s ill-treatment, inflicted on him by private individuals, which \\nresulted in his partial disability. He complained under Articles 6 and 13 of the \\nConvention.\\n2.  On the night of 13 to 14 August 2009 at around 1 a.m., the applicant \\nwas beaten on the head and in his right knee by P., and allegedly by Sh. and \\nK., near a café in Dnipro following a disagreement about P.’s behaviour \\ntowards a young woman with whom the applicant was spending time in the \\ncafé. The applicant complained to the police that same night. P. was detained \\nand was made to undergo an alcohol test, which revealed 1.42‰ of alcohol \\nin his blood.\\n3.  On 22 August 2009 and 21 January 2010, the police refused to open a \\ncriminal case under Article 296 (hooliganism) of the Criminal Code of',\n",
       "  'Ukraine. A prosecutor quashed those decisions on 12 January 2010 and \\n14 October 2011 respectively.\\n4.  On 11 November 2011 the police opened a criminal case under \\nArticle 122 (infliction of bodily injuries of medium severity) of the Criminal \\nCode. Following the investigations conducted into the case, the case file was \\nsent to a court, P. being charged under Article 121 (infliction of grave \\ninjuries) of the Criminal Code.',\n",
       "  'ORLOV v. UKRAINE JUDGMENT\\n2\\n5.  In September 2013 Judge Ch., sitting in a single-judge formation, \\nbegan the examination of the criminal case.\\n6.  On 30 September 2015 Judge Ch. held a final hearing. He retired to the \\ndeliberation room, but did not return to the hearing room to deliver a verdict.\\n7.  The Government submitted a copy of a note signed by P., merely \\nconfirming that on 30 September 2015 he had received a copy of a verdict in \\na criminal case without any further detail.\\n8.  According to the applicant, he had had a conversation after the hearing \\nwith Judge Ch., who had informed him that the verdict would be ready in two \\nor three weeks. However, the applicant had not received a copy of the verdict, \\nnor did the case file contain one.\\n9.  On 16 February 2016 Judge Ch. was dismissed by a presidential order.\\n10.  According to letters from the then acting President of the \\nBabushkinskyi District Court of Dnipropetrovsk of 10 November 2016 and',\n",
       "  '19 February 2018, and a letter from the State Court Administration of \\n26 July 2017, Judge Ch. had examined the case and had delivered a verdict, \\nbut the case file did not contain a printed or electronic copy of it. Neither the \\nreallocation of the case, nor its re-examination nor any other solution was \\npossible under the relevant Rules on the Automated Document Circulation \\nSystem.\\n11.  On 4 November 2016 the applicant lodged a civil claim against P. with \\nthe Babushkinskyi District Court of Dnipropetrovsk, seeking compensation \\nfor his medical expenses for treatment of the injuries sustained in August \\n2009.\\n12.  On 10 August 2018 the registry of the Babushkinskyi District Court \\nof Dnipropetrovsk sent an email to the applicant, attaching a copy of the \\nverdict dated 30 September 2015 – signed by Judge Ch. – and a cover letter \\nfrom the President of the Babushkinskyi District Court of Dnipropetrovsk \\nstating that the same court had sent a copy of the verdict to the applicant, for',\n",
       "  'his information. The applicant appealed.\\n13.  On 14 November 2018 the Dnipro Court of Appeal quashed the \\nverdict dated 30 September 2015 and remitted the case to the first-instance \\ncourt for re-examination. The Court of Appeal found that the Babushkinskyi \\nDistrict Court of Dnipropetrovsk had failed to abide by the procedural rules, \\nin that it had not announced the verdict publicly and immediately following \\nthe deliberations or informed the parties of the possibility of lodging an \\nappeal. As appears from the hearing record, the verdict was not announced \\nfollowing the deliberations and the case file did not contain any document in \\nsupport of the statement that the verdict had been announced by the judge \\nfollowing the deliberations.\\n14.  On 24 September 2019 the Babushkinskyi District Court of \\nDnipropetrovsk examined the case in the applicant’s absence, closed the \\ncriminal case and released P. from criminal responsibility, given that the ten-',\n",
       "  'year limitation period had expired. The court did not consider the applicant’s',\n",
       "  'ORLOV v. UKRAINE JUDGMENT\\n3\\ncivil claim against P. The applicant submitted that he had not been present at \\nthe hearing of 24 September 2019, had not received a copy of the decision of \\nthat same date and had learned of its existence only from the Government’s \\nobservations.\\nTHE COURT’S ASSESSMENT\\nALLEGED VIOLATION OF ARTICLE 3 OF THE CONVENTION\\n15.  The applicant complained under Articles 6 and 13 of the Convention \\nthat the investigation into his ill-treatment had been ineffective and that the \\nfirst-instance court had unjustifiably protracted the proceedings and had not \\ndelivered a verdict in the criminal case in which the applicant had had victim \\nstatus.\\n16.  The Court considers that the applicant’s complaints fall to be \\nexamined under Article 3 of the Convention (see, mutatis mutandis, \\nRadomilja and Others v. Croatia [GC], nos. 37685/10 and 22768/12, § 126, \\n20 March 2018).\\n17.  The Court notes that these complaints are not manifestly ill-founded',\n",
       "  'within the meaning of Article 35 § 3 (a) of the Convention or inadmissible on \\nany other grounds. It must therefore be declared admissible.\\n18.  The general principles concerning the effectiveness of investigations \\ninto ill-treatment, extending to the trial stage, have been summarised in, for \\ninstance, Kosteckas v. Lithuania (no. 960/13, §§ 40-41, 13 June 2017).\\n19.  The Court notes that in the present case, the criminal proceedings were \\nopened almost two years following the incident (see paragraphs 2 and 4 \\nabove); such a delay cannot be justified in the circumstances of the case. The \\npre-trial investigation lasted two years, which cannot in principle be said to \\nbe unreasonable. However, the first-instance court took two more years to \\nexamine the case, without a verdict being delivered after the deliberations. \\nIt is unclear how P. could have received a copy of the verdict on 30 September \\n2015, when the case file did not contain any verdict, either in hard copy or in',\n",
       "  'electronic format (see paragraphs 7 and 10 above), all the more so given that \\nthe applicant waited almost three more years until August 2018, when the \\npresident of the first-instance court sent him a copy of the verdict \\n(see paragraph 12 above). In this regards the Court observes that the note \\nsubmitted by the Government, allegedly confirming the receipt of the verdict \\nby P. on 30 September 2015 (see paragraph 7 above), does not contain any \\nreference to a case number or other specific feature of the criminal case in \\nquestion. It is thus not possible to identify in which exactly criminal case P. \\nhad received a copy of a verdict. Be that as it may, the delays in the opening \\nof the criminal case, the delays in the examination of the case and the delivery \\nof the verdict by the Babushkinskyi District Court in breach of procedural \\nrules (see paragraph 13 above) resulted in the expiry of the limitation period',\n",
       "  'ORLOV v. UKRAINE JUDGMENT\\n4\\nand the discontinuance of the prosecution (see paragraph 14 above). The \\nCourt reiterates that the purpose of providing effective protection against acts \\nof ill-treatment cannot be achieved where the criminal proceedings are \\ndiscontinued owing to the fact that the prosecution has become time-barred \\nwhere this has occurred as a result of flaws in the actions of the relevant State \\nauthorities (see, for instance, Dimitar Shopov v. Bulgaria, no. 17253/07, § 52, \\n16 April 2013).\\n20.  The Court finds that the failure of the police to open a criminal case \\nin a timely manner and the failure of the Babushkinskyi District Court to \\nexamine the case in accordance with the applicable procedural rules fell short \\nof the State’s positive obligations under Article 3 of the Convention.\\n21.  There has accordingly been a violation of the procedural limb of \\nArticle 3 of the Convention.\\nAPPLICATION OF ARTICLE 41 OF THE CONVENTION',\n",
       "  'APPLICATION OF ARTICLE 41 OF THE CONVENTION\\n22.  The applicant claimed 31,672.50 Swiss francs and 875 euros (EUR) \\nin respect of pecuniary damage and EUR 40,000 in respect of non-pecuniary \\ndamage. He did not submit any claim in respect of costs and expenses.\\n23.  The Government objected, arguing that those claims were \\nunsubstantiated and excessive.\\n24.  The Court does not discern any causal link between the violation \\nfound and the pecuniary damage alleged; it therefore rejects the claim under \\nthat head. However, it awards the applicant EUR 4,500 in respect of non-\\npecuniary damage, plus any tax that may be chargeable.\\nFOR THESE REASONS, THE COURT, UNANIMOUSLY,\\n1.Declares the application admissible;\\n2.Holds that there has been a violation of the procedural limb of Article 3 \\nof the Convention;\\n3.Holds\\n(a) that the respondent State is to pay the applicant, within three months, \\nEUR 4,500 (four thousand five hundred euros), plus any tax that may',\n",
       "  'be chargeable, in respect of non-pecuniary damage, to be converted \\ninto the currency of the respondent State at the rate applicable at the \\ndate of settlement;\\n(b) that from the expiry of the above-mentioned three months until \\nsettlement simple interest shall be payable on the above amount at a \\nrate equal to the marginal lending rate of the European Central Bank \\nduring the default period plus three percentage points;',\n",
       "  'ORLOV v. UKRAINE JUDGMENT\\n5\\n4.Dismisses the remainder of the applicant’s claim for just satisfaction.\\nDone in English, and notified in writing on 21 November 2024, pursuant \\nto Rule 77 §§ 2 and 3 of the Rules of Court.\\nMartina Keller Lado Chanturia\\nDeputy Registrar President'],\n",
       " 'uris': None,\n",
       " 'data': None,\n",
       " 'metadatas': [{'page': 0, 'source': 'data/caselaw_1.pdf'},\n",
       "  {'page': 2, 'source': 'data/caselaw_1.pdf'},\n",
       "  {'page': 2, 'source': 'data/caselaw_1.pdf'},\n",
       "  {'page': 2, 'source': 'data/caselaw_1.pdf'},\n",
       "  {'page': 3, 'source': 'data/caselaw_1.pdf'},\n",
       "  {'page': 3, 'source': 'data/caselaw_1.pdf'},\n",
       "  {'page': 3, 'source': 'data/caselaw_1.pdf'},\n",
       "  {'page': 3, 'source': 'data/caselaw_1.pdf'},\n",
       "  {'page': 4, 'source': 'data/caselaw_1.pdf'},\n",
       "  {'page': 4, 'source': 'data/caselaw_1.pdf'},\n",
       "  {'page': 4, 'source': 'data/caselaw_1.pdf'},\n",
       "  {'page': 5, 'source': 'data/caselaw_1.pdf'},\n",
       "  {'page': 5, 'source': 'data/caselaw_1.pdf'},\n",
       "  {'page': 5, 'source': 'data/caselaw_1.pdf'},\n",
       "  {'page': 6, 'source': 'data/caselaw_1.pdf'}],\n",
       " 'included': [<IncludeEnum.documents: 'documents'>,\n",
       "  <IncludeEnum.metadatas: 'metadatas'>]}"
      ]
     },
     "execution_count": 59,
     "metadata": {},
     "output_type": "execute_result"
    }
   ],
   "source": [
    "import chromadb\n",
    "\n",
    "persistent_client = chromadb.PersistentClient()\n",
    "collection = persistent_client.get_or_create_collection(\"collection_name\")\n",
    "collection.add(ids=[\"1\", \"2\", \"3\"], documents=[\"a\", \"b\", \"c\"])\n",
    "\n",
    "vector_store_from_client = Chroma(\n",
    "    client=persistent_client,\n",
    "    collection_name=\"collection_name\",\n",
    "    embedding_function=embeddings,\n",
    ")"
   ]
  },
  {
   "cell_type": "code",
   "execution_count": null,
   "id": "6dddf4ab-d8ed-4f60-a426-38808b071a65",
   "metadata": {},
   "outputs": [],
   "source": []
  }
 ],
 "metadata": {
  "kernelspec": {
   "display_name": "llm-langchain",
   "language": "python",
   "name": "llm-langchain"
  },
  "language_info": {
   "codemirror_mode": {
    "name": "ipython",
    "version": 3
   },
   "file_extension": ".py",
   "mimetype": "text/x-python",
   "name": "python",
   "nbconvert_exporter": "python",
   "pygments_lexer": "ipython3",
   "version": "3.12.7"
  }
 },
 "nbformat": 4,
 "nbformat_minor": 5
}
